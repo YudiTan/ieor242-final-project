{
 "cells": [
  {
   "cell_type": "markdown",
   "metadata": {},
   "source": [
    "### Load the Data"
   ]
  },
  {
   "cell_type": "code",
   "execution_count": 2,
   "metadata": {},
   "outputs": [],
   "source": [
    "import numpy as np\n",
    "import pandas as pd\n",
    "import torch\n",
    "import torch.nn as nn\n",
    "import matplotlib.pyplot as plt\n",
    "\n",
    "moist = pd.read_csv(\"sephora_moisturizers.csv\")\n",
    "cleansers = pd.read_csv(\"sephora_cleansers.csv\")"
   ]
  },
  {
   "cell_type": "markdown",
   "metadata": {},
   "source": [
    "### Get distribution of labels"
   ]
  },
  {
   "cell_type": "code",
   "execution_count": 3,
   "metadata": {
    "scrolled": false
   },
   "outputs": [
    {
     "name": "stdout",
     "output_type": "stream",
     "text": [
      "Number of rows with label 1.0: 1\n",
      "Number of rows with label 1.5: 0\n",
      "Number of rows with label 2.0: 2\n",
      "Number of rows with label 2.5: 3\n",
      "Number of rows with label 3.0: 13\n",
      "Number of rows with label 3.5: 76\n",
      "Number of rows with label 4.0: 277\n",
      "Number of rows with label 4.5: 307\n",
      "Number of rows with label 5.0: 28\n",
      "Total: 707\n",
      "BASELINE: 0.43422913719943423\n",
      "\n",
      "\n",
      "Number of rows with label 1.0: 1\n",
      "Number of rows with label 1.5: 0\n",
      "Number of rows with label 2.0: 2\n",
      "Number of rows with label 2.5: 6\n",
      "Number of rows with label 3.0: 7\n",
      "Number of rows with label 3.5: 32\n",
      "Number of rows with label 4.0: 141\n",
      "Number of rows with label 4.5: 252\n",
      "Number of rows with label 5.0: 28\n",
      "Total: 469\n",
      "BASELINE: 0.5373134328358209\n",
      "\n",
      "<= 4: 372\n",
      "> 4: 335\n",
      "\n",
      "<= 4: 189\n",
      "> 4: 280\n"
     ]
    }
   ],
   "source": [
    "total = 0\n",
    "max_label_count = 0\n",
    "for label in [1.0, 1.5, 2.0, 2.5, 3.0, 3.5, 4.0, 4.5, 5.0]:\n",
    "    curr_total = np.sum([moist['overall_ratings'] == label])\n",
    "    max_label_count = max(max_label_count, curr_total)\n",
    "    total += curr_total\n",
    "    print(f\"Number of rows with label {label}: {curr_total}\")\n",
    "\n",
    "print(\"Total:\", total)\n",
    "print(\"BASELINE:\", max_label_count / total)\n",
    "print(\"\\n\")\n",
    "\n",
    "total = 0\n",
    "max_label_count = 0\n",
    "for label in [1.0, 1.5, 2.0, 2.5, 3.0, 3.5, 4.0, 4.5, 5.0]:\n",
    "    curr_total = np.sum([cleansers['overall_ratings'] == label])\n",
    "    max_label_count = max(max_label_count, curr_total)\n",
    "    total += curr_total\n",
    "    print(f\"Number of rows with label {label}: {curr_total}\")\n",
    "\n",
    "print(\"Total:\", total)\n",
    "print(\"BASELINE:\", max_label_count / total)\n",
    "\n",
    "for dataset in (moist, cleansers):\n",
    "    total = 0\n",
    "    leq_four = 0\n",
    "    g_four = 0\n",
    "    for label in [1.0, 1.5, 2.0, 2.5, 3.0, 3.5, 4.0, 4.5, 5.0]:\n",
    "        curr_total = np.sum([dataset['overall_ratings'] == label])\n",
    "        if label <= 4.0:\n",
    "            leq_four += curr_total\n",
    "        else:\n",
    "            g_four += curr_total\n",
    "\n",
    "    print(f\"\\n<= 4: {leq_four}\")\n",
    "    print(f\"> 4: {g_four}\")"
   ]
  },
  {
   "cell_type": "markdown",
   "metadata": {},
   "source": [
    "### Map overall_ratings into integer classes"
   ]
  },
  {
   "cell_type": "code",
   "execution_count": 28,
   "metadata": {},
   "outputs": [],
   "source": [
    "# rating_to_int = {1.0: 0,\n",
    "#                 1.5: 1,\n",
    "#                 2.0: 2,\n",
    "#                 2.5: 3,\n",
    "#                 3.0: 4,\n",
    "#                 3.5: 5,\n",
    "#                 4.0: 6,\n",
    "#                 4.5: 7,\n",
    "#                 5.0: 8}\n",
    "\n",
    "# for dataset in (moist, cleansers):\n",
    "#     new_col = []\n",
    "#     for label in dataset[\"overall_ratings\"]:\n",
    "#         try:\n",
    "#             new_col.append(rating_to_int[label])\n",
    "#         except KeyError:\n",
    "#             print(\"FOUND NON NUMBER\", label)\n",
    "#             new_col.append(len(rating_to_int))\n",
    "#     dataset.loc[:, \"overall_ratings\"] = pd.Series(new_col)"
   ]
  },
  {
   "cell_type": "markdown",
   "metadata": {},
   "source": [
    "### Map brands into integer class"
   ]
  },
  {
   "cell_type": "code",
   "execution_count": 4,
   "metadata": {},
   "outputs": [],
   "source": [
    "brands = set()\n",
    "for dataset in (moist, cleansers):\n",
    "    for brand in dataset[\"brand\"]:\n",
    "        if type(brand) == str:\n",
    "            brands.add(brand)\n",
    "        else:\n",
    "            brands.add(\"unknown\")\n",
    "\n",
    "brand_to_int = {brand: idx for idx, brand in enumerate(sorted(brands))}\n",
    "\n",
    "for dataset in (moist, cleansers):\n",
    "    new_col = []\n",
    "    for brand in dataset[\"brand\"]:\n",
    "        if type(brand) == str:\n",
    "            new_col.append(brand_to_int[brand])\n",
    "        else:\n",
    "            new_col.append(brand_to_int[\"unknown\"])\n",
    "    dataset.loc[:, \"brand\"] = pd.Series(new_col)"
   ]
  },
  {
   "cell_type": "markdown",
   "metadata": {},
   "source": [
    "### Map skintypes into integer classes"
   ]
  },
  {
   "cell_type": "code",
   "execution_count": 5,
   "metadata": {},
   "outputs": [],
   "source": [
    "# All skintypes are some subsets of Normal, Dry, Combination, and Oily"
   ]
  },
  {
   "cell_type": "markdown",
   "metadata": {},
   "source": [
    "### Transform skincare concerns into integer classes"
   ]
  },
  {
   "cell_type": "code",
   "execution_count": 6,
   "metadata": {},
   "outputs": [
    {
     "name": "stdout",
     "output_type": "stream",
     "text": [
      "{'dark spots', 'targets signs of aging', 'uneven tone', 'lightweight liquid', 'pores', 'makeup removal', 'dryness', 'acne', 'redness', 'loss of firmness', 'wrinkles', 'oiliness', 'dark circles', 'uneven texture', 'puffiness'}\n",
      "15\n"
     ]
    }
   ],
   "source": [
    "seen = set()\n",
    "\n",
    "# after splitting into tokens by commas and \"and\" we're left\n",
    "# with only 27 possible concerns. Hardcoded the remaining \n",
    "# groups that aren't easily identified through splits\n",
    "\n",
    "# This reduces the groups to 15, and each is unique\n",
    "\n",
    "texture = {\"uneven texture\", \"uneven skin textures\", \"uneven skin texture\",\n",
    "          \"dullness/uneven texture\", \"dullness\"}\n",
    "wrinkles = {\"wrinkles\", \"fine lines\", \"fine lines/wrinkles\"}\n",
    "firm = {\"loss of firmness/elasticity\", \"loss of firmness\", \"elasticity\"}\n",
    "tone = {\"uneven skin tone\", \"uneven skintone\"}\n",
    "spots = {\"dark spot\", \"dark spots\"}\n",
    "acne = {\"acne\", \"acne/blemishes\", \"blemishes\"}\n",
    "\n",
    "for dataset in (moist, cleansers):\n",
    "    new_col = []\n",
    "    for concerns in dataset[\"skincare_concerns\"]:\n",
    "        if type(concerns) == str:\n",
    "            concerns = concerns.split(\", \")\n",
    "            if \"and \" == concerns[-1][:4]:\n",
    "                concerns[-1] = concerns[-1][4:]\n",
    "            for concern in concerns:\n",
    "                split_concern = concern.split(\"and\")\n",
    "                for individual_concern in split_concern:\n",
    "                    processed = individual_concern.lower().strip()\n",
    "                    if processed in texture:\n",
    "                        seen.add(\"uneven texture\")\n",
    "                    elif processed in wrinkles:\n",
    "                        seen.add(\"wrinkles\")\n",
    "                    elif processed in firm:\n",
    "                        seen.add(\"loss of firmness\")\n",
    "                    elif processed in tone:\n",
    "                        seen.add(\"uneven tone\")\n",
    "                    elif processed in spots:\n",
    "                        seen.add(\"dark spots\")\n",
    "                    elif processed in acne:\n",
    "                        seen.add(\"acne\")\n",
    "                    else:\n",
    "                        seen.add(processed)\n",
    "print(seen)\n",
    "print(len(seen))"
   ]
  },
  {
   "cell_type": "markdown",
   "metadata": {},
   "source": [
    "### Make dataset"
   ]
  },
  {
   "cell_type": "code",
   "execution_count": 7,
   "metadata": {
    "scrolled": true
   },
   "outputs": [],
   "source": [
    "# brand, skintype, concerns, is_vegan, cruelty_free, award_wins, is_clean, price, review_count, sizing_options, \n",
    "# image count, video count\n",
    "\n",
    "# Omit `concerns` and other stuff for now\n",
    "\n",
    "# dimensionality will be 11 for now\n",
    "np.random.seed(1)\n",
    "\n",
    "N = np.shape(moist)[0] + np.shape(cleansers)[0]\n",
    "total_train_size = int(0.8 * np.shape(moist)[0]) + int(0.8 * np.shape(cleansers)[0])\n",
    "total_test_size = N - total_train_size\n",
    "\n",
    "train_data = torch.zeros(total_train_size, 11)\n",
    "train_labels = torch.zeros(total_train_size)\n",
    "test_data = torch.zeros(total_test_size, 11)\n",
    "test_labels = torch.zeros(total_test_size)\n",
    "\n",
    "is_first = True\n",
    "for dataset in (moist, cleansers):\n",
    "    total_samples = np.shape(dataset)[0]\n",
    "    train_size = int(0.8 * total_samples)\n",
    "    test_size = total_samples - train_size\n",
    "\n",
    "    indices = np.arange(total_samples)\n",
    "    np.random.shuffle(indices)\n",
    "    curr_train_data = dataset.loc[indices[:train_size], :]\n",
    "    curr_test_data = dataset.loc[indices[train_size:], :]\n",
    "    \n",
    "    if is_first:\n",
    "        train_labels[:train_size] = torch.tensor([curr_train_data[\"overall_ratings\"].values])\n",
    "        test_labels[:test_size] = torch.tensor(curr_test_data[\"overall_ratings\"].values)\n",
    "        \n",
    "        train_data[:train_size, 0] = torch.tensor(curr_train_data[\"brand\"].values)\n",
    "        train_data[:train_size, 1] = torch.tensor(curr_train_data[\"is_vegan\"].values, dtype=int)\n",
    "        train_data[:train_size, 2] = torch.tensor(curr_train_data[\"is_cruelty_free\"].values, dtype=int)\n",
    "        train_data[:train_size, 3] = torch.tensor(curr_train_data[\"award_wins\"].values, dtype=int)\n",
    "        train_data[:train_size, 4] = torch.tensor(curr_train_data[\"is_clean_product\"].values, dtype=int)\n",
    "        train_data[:train_size, 5] = torch.tensor(curr_train_data[\"price\"].values, dtype=int)\n",
    "        train_data[:train_size, 6] = torch.tensor(curr_train_data[\"review_count\"].values, dtype=int)\n",
    "        train_data[:train_size, 7] = torch.tensor(curr_train_data[\"sizing_options_count\"].values, dtype=int)\n",
    "        train_data[:train_size, 8] = torch.tensor(curr_train_data[\"image_count\"].values, dtype=int)\n",
    "        train_data[:train_size, 9] = torch.tensor(curr_train_data[\"video_count\"].values, dtype=int)\n",
    "        \n",
    "        test_data[:test_size, 0] = torch.tensor(curr_test_data[\"brand\"].values)\n",
    "        test_data[:test_size, 1] = torch.tensor(curr_test_data[\"is_vegan\"].values, dtype=int)\n",
    "        test_data[:test_size, 2] = torch.tensor(curr_test_data[\"is_cruelty_free\"].values, dtype=int)\n",
    "        test_data[:test_size, 3] = torch.tensor(curr_test_data[\"award_wins\"].values, dtype=int)\n",
    "        test_data[:test_size, 4] = torch.tensor(curr_test_data[\"is_clean_product\"].values, dtype=int)\n",
    "        test_data[:test_size, 5] = torch.tensor(curr_test_data[\"price\"].values, dtype=int)\n",
    "        test_data[:test_size, 6] = torch.tensor(curr_test_data[\"review_count\"].values, dtype=int)\n",
    "        test_data[:test_size, 7] = torch.tensor(curr_test_data[\"sizing_options_count\"].values, dtype=int)\n",
    "        test_data[:test_size, 8] = torch.tensor(curr_test_data[\"image_count\"].values, dtype=int)\n",
    "        test_data[:test_size, 9] = torch.tensor(curr_test_data[\"video_count\"].values, dtype=int)\n",
    "        \n",
    "        for idx in range(train_size):\n",
    "            curr_skintype = curr_train_data[\"skin_type\"].values[idx]\n",
    "            \n",
    "            if type(curr_skintype) == str:\n",
    "                curr_skintype = curr_skintype.lower()\n",
    "            else:\n",
    "                train_data[idx, 10] = 0\n",
    "                continue\n",
    "            \n",
    "            if \"normal\" in curr_skintype and \"dry\" in curr_skintype and \"oily\" in curr_skintype and \"combination\" in curr_skintype:\n",
    "                train_data[idx, 10] = 15\n",
    "            elif \"dry\" in curr_skintype and \"combination\" in curr_skintype and \"oily\" in curr_skintype:\n",
    "                train_data[idx, 10] = 14\n",
    "            elif all([elem in curr_skintype for elem in [\"normal\", \"combination\", \"oily\"]]):\n",
    "                train_data[idx, 10] = 13\n",
    "            elif all([elem in curr_skintype for elem in [\"normal\", \"dry\", \"oily\"]]):\n",
    "                train_data[idx, 10] = 12\n",
    "            elif all([elem in curr_skintype for elem in [\"normal\", \"dry\", \"combination\"]]):\n",
    "                train_data[idx, 10] = 11\n",
    "            elif all([elem in curr_skintype for elem in [\"combination\", \"oily\"]]):\n",
    "                train_data[idx, 10] = 10\n",
    "            elif all([elem in curr_skintype for elem in [\"dry\", \"oily\"]]):\n",
    "                train_data[idx, 10] = 9\n",
    "            elif all([elem in curr_skintype for elem in [\"combination\", \"dry\"]]):\n",
    "                train_data[idx, 10] = 8\n",
    "            elif all([elem in curr_skintype for elem in [\"normal\", \"oily\"]]):\n",
    "                train_data[idx, 10] = 7\n",
    "            elif all([elem in curr_skintype for elem in [\"combination\", \"normal\"]]):\n",
    "                train_data[idx, 10] = 6\n",
    "            elif all([elem in curr_skintype for elem in [\"normal\", \"dry\"]]):\n",
    "                train_data[idx, 10] = 5\n",
    "            elif all([elem in curr_skintype for elem in [\"oily\"]]):\n",
    "                train_data[idx, 10] = 4\n",
    "            elif all([elem in curr_skintype for elem in [\"combination\"]]):\n",
    "                train_data[idx, 10] = 3\n",
    "            elif all([elem in curr_skintype for elem in [\"dry\"]]):\n",
    "                train_data[idx, 10] = 2\n",
    "            elif all([elem in curr_skintype for elem in [\"normal\"]]):\n",
    "                train_data[idx, 10] = 1   \n",
    "                \n",
    "        for idx in range(test_size):\n",
    "            curr_skintype = curr_test_data[\"skin_type\"].values[-test_size + idx]\n",
    "            if type(curr_skintype) == str:\n",
    "                curr_skintype = curr_skintype.lower()\n",
    "            else:\n",
    "                test_data[-test_size + idx, 10] = 0\n",
    "                continue\n",
    "        \n",
    "            if \"normal\" in curr_skintype and \"dry\" in curr_skintype and \"oily\" in curr_skintype and \"combination\" in curr_skintype:\n",
    "                test_data[-test_size + idx, 10] = 15\n",
    "            elif \"dry\" in curr_skintype and \"combination\" in curr_skintype and \"oily\" in curr_skintype:\n",
    "                test_data[-test_size + idx, 10] = 14\n",
    "            elif all([elem in curr_skintype for elem in [\"normal\", \"combination\", \"oily\"]]):\n",
    "                test_data[-test_size + idx, 10] = 13\n",
    "            elif all([elem in curr_skintype for elem in [\"normal\", \"dry\", \"oily\"]]):\n",
    "                test_data[-test_size + idx, 10] = 12\n",
    "            elif all([elem in curr_skintype for elem in [\"normal\", \"dry\", \"combination\"]]):\n",
    "                test_data[-test_size + idx, 10] = 11\n",
    "            elif all([elem in curr_skintype for elem in [\"combination\", \"oily\"]]):\n",
    "                test_data[-test_size + idx, 10] = 10\n",
    "            elif all([elem in curr_skintype for elem in [\"dry\", \"oily\"]]):\n",
    "                test_data[-test_size + idx, 10] = 9\n",
    "            elif all([elem in curr_skintype for elem in [\"combination\", \"dry\"]]):\n",
    "                test_data[-test_size + idx, 10] = 8\n",
    "            elif all([elem in curr_skintype for elem in [\"normal\", \"oily\"]]):\n",
    "                test_data[-test_size + idx, 10] = 7\n",
    "            elif all([elem in curr_skintype for elem in [\"combination\", \"normal\"]]):\n",
    "                test_data[-test_size + idx, 10] = 6\n",
    "            elif all([elem in curr_skintype for elem in [\"normal\", \"dry\"]]):\n",
    "                test_data[-test_size + idx, 10] = 5\n",
    "            elif all([elem in curr_skintype for elem in [\"oily\"]]):\n",
    "                test_data[-test_size + idx, 10] = 4\n",
    "            elif all([elem in curr_skintype for elem in [\"combination\"]]):\n",
    "                test_data[-test_size + idx, 10] = 3\n",
    "            elif all([elem in curr_skintype for elem in [\"dry\"]]):\n",
    "                test_data[-test_size + idx, 10] = 2\n",
    "            elif all([elem in curr_skintype for elem in [\"normal\"]]):\n",
    "                test_data[-test_size + idx, 10] = 1\n",
    "        is_first = False\n",
    "    else:\n",
    "        train_labels[-train_size:] = torch.tensor(curr_train_data[\"overall_ratings\"].values)\n",
    "        test_labels[-test_size:] = torch.tensor(curr_test_data[\"overall_ratings\"].values)\n",
    "        \n",
    "        train_data[-train_size:, 0] = torch.tensor(curr_train_data[\"brand\"].values)\n",
    "        train_data[-train_size:, 1] = torch.tensor(curr_train_data[\"is_vegan\"].values, dtype=int)\n",
    "        train_data[-train_size:, 2] = torch.tensor(curr_train_data[\"is_cruelty_free\"].values, dtype=int)\n",
    "        train_data[-train_size:, 3] = torch.tensor(curr_train_data[\"award_wins\"].values, dtype=int)\n",
    "        train_data[-train_size:, 4] = torch.tensor(curr_train_data[\"is_clean_product\"].values, dtype=int)\n",
    "        train_data[-train_size:, 5] = torch.tensor(curr_train_data[\"price\"].values, dtype=int)\n",
    "        train_data[-train_size:, 6] = torch.tensor(curr_train_data[\"review_count\"].values, dtype=int)\n",
    "        train_data[-train_size:, 7] = torch.tensor(curr_train_data[\"sizing_options_count\"].values, dtype=int)\n",
    "        train_data[-train_size:, 8] = torch.tensor(curr_train_data[\"image_count\"].values, dtype=int)\n",
    "        train_data[-train_size:, 9] = torch.tensor(curr_train_data[\"video_count\"].values, dtype=int)\n",
    "\n",
    "        test_data[-test_size:, 0] = torch.tensor(curr_test_data[\"brand\"].values)\n",
    "        test_data[-test_size:, 1] = torch.tensor(curr_test_data[\"is_vegan\"].values, dtype=int)\n",
    "        test_data[-test_size:, 2] = torch.tensor(curr_test_data[\"is_cruelty_free\"].values, dtype=int)\n",
    "        test_data[-test_size:, 3] = torch.tensor(curr_test_data[\"award_wins\"].values, dtype=int)\n",
    "        test_data[-test_size:, 4] = torch.tensor(curr_test_data[\"is_clean_product\"].values, dtype=int)\n",
    "        test_data[-test_size:, 5] = torch.tensor(curr_test_data[\"price\"].values, dtype=int)\n",
    "        test_data[-test_size:, 6] = torch.tensor(curr_test_data[\"review_count\"].values, dtype=int)\n",
    "        test_data[-test_size:, 7] = torch.tensor(curr_test_data[\"sizing_options_count\"].values, dtype=int)\n",
    "        test_data[-test_size:, 8] = torch.tensor(curr_test_data[\"image_count\"].values, dtype=int)\n",
    "        test_data[-test_size:, 9] = torch.tensor(curr_test_data[\"video_count\"].values, dtype=int)\n",
    "\n",
    "        for idx in range(train_size):\n",
    "            curr_skintype = curr_train_data[\"skin_type\"].values[idx]\n",
    "\n",
    "            if type(curr_skintype) == str:\n",
    "                curr_skintype = curr_skintype.lower()\n",
    "            else:\n",
    "                train_data[-(train_size + idx), 10] = 0\n",
    "                continue\n",
    "\n",
    "            if \"normal\" in curr_skintype and \"dry\" in curr_skintype and \"oily\" in curr_skintype and \"combination\" in curr_skintype:\n",
    "                train_data[-(train_size + idx), 10] = 15\n",
    "            elif \"dry\" in curr_skintype and \"combination\" in curr_skintype and \"oily\" in curr_skintype:\n",
    "                train_data[-(train_size + idx), 10] = 14\n",
    "            elif all([elem in curr_skintype for elem in [\"normal\", \"combination\", \"oily\"]]):\n",
    "                train_data[-(train_size + idx), 10] = 13\n",
    "            elif all([elem in curr_skintype for elem in [\"normal\", \"dry\", \"oily\"]]):\n",
    "                train_data[-(train_size + idx), 10] = 12\n",
    "            elif all([elem in curr_skintype for elem in [\"normal\", \"dry\", \"combination\"]]):\n",
    "                train_data[-(train_size + idx), 10] = 11\n",
    "            elif all([elem in curr_skintype for elem in [\"combination\", \"oily\"]]):\n",
    "                train_data[-(train_size + idx), 10] = 10\n",
    "            elif all([elem in curr_skintype for elem in [\"dry\", \"oily\"]]):\n",
    "                train_data[-(train_size + idx), 10] = 9\n",
    "            elif all([elem in curr_skintype for elem in [\"combination\", \"dry\"]]):\n",
    "                train_data[-(train_size + idx), 10] = 8\n",
    "            elif all([elem in curr_skintype for elem in [\"normal\", \"oily\"]]):\n",
    "                train_data[-(train_size + idx), 10] = 7\n",
    "            elif all([elem in curr_skintype for elem in [\"combination\", \"normal\"]]):\n",
    "                train_data[-(train_size + idx), 10] = 6\n",
    "            elif all([elem in curr_skintype for elem in [\"normal\", \"dry\"]]):\n",
    "                train_data[-(train_size + idx), 10] = 5\n",
    "            elif all([elem in curr_skintype for elem in [\"oily\"]]):\n",
    "                train_data[-(train_size + idx), 10] = 4\n",
    "            elif all([elem in curr_skintype for elem in [\"combination\"]]):\n",
    "                train_data[-(train_size + idx), 10] = 3\n",
    "            elif all([elem in curr_skintype for elem in [\"dry\"]]):\n",
    "                train_data[-(train_size + idx), 10] = 2\n",
    "            elif all([elem in curr_skintype for elem in [\"normal\"]]):\n",
    "                train_data[-(train_size + idx), 10] = 1\n",
    "    \n",
    "        for idx in range(test_size):\n",
    "            curr_skintype = curr_test_data[\"skin_type\"].values[-test_size + idx]\n",
    "\n",
    "            if type(curr_skintype) == str:\n",
    "                curr_skintype = curr_skintype.lower()\n",
    "            else:\n",
    "                test_data[-test_size + idx, 10] = 0\n",
    "                continue\n",
    "\n",
    "            if \"normal\" in curr_skintype and \"dry\" in curr_skintype and \"oily\" in curr_skintype and \"combination\" in curr_skintype:\n",
    "                test_data[-test_size + idx, 10] = 15\n",
    "            elif \"dry\" in curr_skintype and \"combination\" in curr_skintype and \"oily\" in curr_skintype:\n",
    "                test_data[-test_size + idx, 10] = 14\n",
    "            elif all([elem in curr_skintype for elem in [\"normal\", \"combination\", \"oily\"]]):\n",
    "                test_data[-test_size + idx, 10] = 13\n",
    "            elif all([elem in curr_skintype for elem in [\"normal\", \"dry\", \"oily\"]]):\n",
    "                test_data[-test_size + idx, 10] = 12\n",
    "            elif all([elem in curr_skintype for elem in [\"normal\", \"dry\", \"combination\"]]):\n",
    "                test_data[-test_size + idx, 10] = 11\n",
    "            elif all([elem in curr_skintype for elem in [\"combination\", \"oily\"]]):\n",
    "                test_data[-test_size + idx, 10] = 10\n",
    "            elif all([elem in curr_skintype for elem in [\"dry\", \"oily\"]]):\n",
    "                test_data[-test_size + idx, 10] = 9\n",
    "            elif all([elem in curr_skintype for elem in [\"combination\", \"dry\"]]):\n",
    "                test_data[-test_size + idx, 10] = 8\n",
    "            elif all([elem in curr_skintype for elem in [\"normal\", \"oily\"]]):\n",
    "                test_data[-test_size + idx, 10] = 7\n",
    "            elif all([elem in curr_skintype for elem in [\"combination\", \"normal\"]]):\n",
    "                test_data[-test_size + idx, 10] = 6\n",
    "            elif all([elem in curr_skintype for elem in [\"normal\", \"dry\"]]):\n",
    "                test_data[-test_size + idx, 10] = 5\n",
    "            elif all([elem in curr_skintype for elem in [\"oily\"]]):\n",
    "                test_data[-test_size + idx, 10] = 4\n",
    "            elif all([elem in curr_skintype for elem in [\"combination\"]]):\n",
    "                test_data[-test_size + idx, 10] = 3\n",
    "            elif all([elem in curr_skintype for elem in [\"dry\"]]):\n",
    "                test_data[-test_size + idx, 10] = 2\n",
    "            elif all([elem in curr_skintype for elem in [\"normal\"]]):\n",
    "                test_data[-test_size + idx, 10] = 1"
   ]
  },
  {
   "cell_type": "markdown",
   "metadata": {},
   "source": [
    "### Define neural network"
   ]
  },
  {
   "cell_type": "code",
   "execution_count": 8,
   "metadata": {},
   "outputs": [],
   "source": [
    "input_size = 11\n",
    "output_size = 2\n",
    "embed_dim = 10\n",
    "\n",
    "class Predictor(nn.Module):\n",
    "    def __init__(self, hidden_size):\n",
    "        super(Predictor, self).__init__()\n",
    "        self.layer0 = nn.Linear(input_size, hidden_size)\n",
    "        self.activation = nn.ReLU()\n",
    "        self.layer1 = nn.Linear(hidden_size, output_size)\n",
    "    \n",
    "    def forward(self, x):\n",
    "        x = self.layer0(x)\n",
    "        x = self.activation(x)\n",
    "        return self.layer1(x)"
   ]
  },
  {
   "cell_type": "markdown",
   "metadata": {},
   "source": [
    "### Train neural network"
   ]
  },
  {
   "cell_type": "code",
   "execution_count": 9,
   "metadata": {},
   "outputs": [
    {
     "name": "stdout",
     "output_type": "stream",
     "text": [
      "Baseline train acc: 0.5223404255319148\n",
      "Baseline test acc: 0.5254237288135594\n",
      "best combo 0.001 16 0.576271186440678\n"
     ]
    },
    {
     "data": {
      "image/png": "[encoded data removed]",
      "text/plain": [
       "<Figure size 432x288 with 1 Axes>"
      ]
     },
     "metadata": {
      "needs_background": "light"
     },
     "output_type": "display_data"
    },
    {
     "name": "stdout",
     "output_type": "stream",
     "text": [
      "best combo 0.001 32 0.6059322033898306\n"
     ]
    },
    {
     "data": {
      "image/png": "[encoded data removed]",
      "text/plain": [
       "<Figure size 432x288 with 1 Axes>"
      ]
     },
     "metadata": {
      "needs_background": "light"
     },
     "output_type": "display_data"
    },
    {
     "name": "stdout",
     "output_type": "stream",
     "text": [
      "best combo 0.001 64 0.6440677966101694\n"
     ]
    },
    {
     "data": {
      "image/png": "[encoded data removed]",
      "text/plain": [
       "<Figure size 432x288 with 1 Axes>"
      ]
     },
     "metadata": {
      "needs_background": "light"
     },
     "output_type": "display_data"
    }
   ],
   "source": [
    "import copy\n",
    "def train(model, train_data, train_labels, val_data, val_labels, epochs, optimizer, loss_fn, print_freq, batch_size):\n",
    "    losses = []\n",
    "    accuracies = []\n",
    "    N = val_data.shape[0]\n",
    "    best_acc = 0\n",
    "    dct = None\n",
    "    for epoch in range(epochs):\n",
    "        idx = 0\n",
    "        for iteration in range(train_data.shape[0] // batch_size):\n",
    "            batch = train_data[iteration * batch_size : (iteration + 1) * batch_size, :]\n",
    "            targets = train_labels[iteration * batch_size : (iteration + 1) * batch_size]\n",
    "            optimizer.zero_grad()\n",
    "            out = model(batch)\n",
    "            loss = loss_fn(out, targets)\n",
    "            loss.backward()\n",
    "            optimizer.step()\n",
    "\n",
    "            if idx % print_freq == 0:\n",
    "                losses.append(loss.item())\n",
    "                with torch.no_grad():\n",
    "                    val_out = model(val_data)\n",
    "                    preds = torch.topk(val_out, 1).indices.squeeze()\n",
    "                    acc = torch.sum(preds == val_labels.squeeze()).item() / N\n",
    "                    accuracies.append(acc)\n",
    "                    \n",
    "                    if acc > best_acc:\n",
    "                        best_acc = acc\n",
    "                        dct = copy.deepcopy(model.state_dict())\n",
    "            idx += 1\n",
    "    return losses, accuracies, best_acc, dct\n",
    "\n",
    "# Binary decision: <= 4 and > 4\n",
    "train_labels[train_labels <= 4] = 0\n",
    "train_labels[train_labels > 4] = 1\n",
    "test_labels[test_labels <= 4] = 0\n",
    "test_labels[test_labels > 4] = 1\n",
    "\n",
    "train_labels = train_labels.long()\n",
    "test_labels = test_labels.long()\n",
    "\n",
    "zeros = torch.sum(train_labels == 0).item()\n",
    "ones = torch.sum(train_labels == 1).item()\n",
    "print(f\"Baseline train acc: {max(zeros, ones) / (zeros + ones)}\")\n",
    "\n",
    "zeros = torch.sum(test_labels == 0).item()\n",
    "ones = torch.sum(test_labels == 1).item()\n",
    "print(f\"Baseline test acc: {max(zeros, ones) / (zeros + ones)}\")\n",
    "\n",
    "best_acc = 0\n",
    "best_model = None\n",
    "for lr in [0.001, 0.0001, 0.00001]:\n",
    "    for hidden_size in [16, 32, 64, 128, 256]:\n",
    "        model = Predictor(hidden_size)\n",
    "        optimizer = torch.optim.SGD(model.parameters(), lr=lr, momentum=0.9)\n",
    "        l, a, acc, dct = train(model, train_data, train_labels, test_data, test_labels, 20, optimizer, \\\n",
    "                     nn.CrossEntropyLoss(), 1, 20)\n",
    "        if acc > best_acc:\n",
    "            print(\"best combo\", lr, hidden_size, acc)\n",
    "            best_acc = acc\n",
    "            best_model = model\n",
    "            best_model.load_state_dict(dct)\n",
    "            plt.plot(a)\n",
    "            plt.show()"
   ]
  },
  {
   "cell_type": "markdown",
   "metadata": {},
   "source": [
    "### Double check"
   ]
  },
  {
   "cell_type": "code",
   "execution_count": 10,
   "metadata": {},
   "outputs": [
    {
     "name": "stdout",
     "output_type": "stream",
     "text": [
      "0.6440677966101694\n",
      "0.5819148936170213\n"
     ]
    }
   ],
   "source": [
    "print(torch.sum(torch.topk(best_model(test_data), 1).indices.squeeze() \n",
    "          == test_labels.squeeze()).item() / test_labels.numel())\n",
    "\n",
    "print(torch.sum(torch.topk(best_model(train_data), 1).indices.squeeze() \n",
    "          == train_labels.squeeze()).item() / train_labels.numel())"
   ]
  }
 ],
 "metadata": {
  "kernelspec": {
   "display_name": "Python 3",
   "language": "python",
   "name": "python3"
  },
  "language_info": {
   "codemirror_mode": {
    "name": "ipython",
    "version": 3
   },
   "file_extension": ".py",
   "mimetype": "text/x-python",
   "name": "python",
   "nbconvert_exporter": "python",
   "pygments_lexer": "ipython3",
   "version": "3.6.5"
  }
 },
 "nbformat": 4,
 "nbformat_minor": 4
}
