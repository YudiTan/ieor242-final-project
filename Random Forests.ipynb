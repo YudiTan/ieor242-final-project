{
 "cells": [
  {
   "cell_type": "code",
   "execution_count": 1,
   "id": "useful-capture",
   "metadata": {},
   "outputs": [],
   "source": [
    "import pandas as pd\n",
    "import numpy as np\n",
    "from sklearn.ensemble import RandomForestClassifier\n",
    "from sklearn.ensemble import RandomForestRegressor\n",
    "import matplotlib.pyplot as plt\n",
    "from sklearn.metrics import confusion_matrix\n",
    "from sklearn.model_selection import GridSearchCV\n",
    "from sklearn.model_selection import train_test_split\n",
    "from sklearn.metrics import accuracy_score\n",
    "from sklearn.ensemble import AdaBoostClassifier"
   ]
  },
  {
   "cell_type": "code",
   "execution_count": 2,
   "id": "obvious-kansas",
   "metadata": {},
   "outputs": [
    {
     "data": {
      "text/html": [
       "<div>\n",
       "<style scoped>\n",
       "    .dataframe tbody tr th:only-of-type {\n",
       "        vertical-align: middle;\n",
       "    }\n",
       "\n",
       "    .dataframe tbody tr th {\n",
       "        vertical-align: top;\n",
       "    }\n",
       "\n",
       "    .dataframe thead th {\n",
       "        text-align: right;\n",
       "    }\n",
       "</style>\n",
       "<table border=\"1\" class=\"dataframe\">\n",
       "  <thead>\n",
       "    <tr style=\"text-align: right;\">\n",
       "      <th></th>\n",
       "      <th>Unnamed: 0</th>\n",
       "      <th>product_url</th>\n",
       "      <th>overall_ratings</th>\n",
       "      <th>is_vegan</th>\n",
       "      <th>is_cruelty_free</th>\n",
       "      <th>award_wins</th>\n",
       "      <th>is_clean_product</th>\n",
       "      <th>has_clinical_results</th>\n",
       "      <th>has_alcohol</th>\n",
       "      <th>price</th>\n",
       "      <th>...</th>\n",
       "      <th>brand_bareMinerals</th>\n",
       "      <th>brand_belif</th>\n",
       "      <th>brand_fresh</th>\n",
       "      <th>brand_goop</th>\n",
       "      <th>brand_innisfree</th>\n",
       "      <th>brand_lilah b.</th>\n",
       "      <th>brand_philosophy</th>\n",
       "      <th>brand_rms beauty</th>\n",
       "      <th>brand_tarte</th>\n",
       "      <th>brand_trèStiQue</th>\n",
       "    </tr>\n",
       "  </thead>\n",
       "  <tbody>\n",
       "    <tr>\n",
       "      <th>0</th>\n",
       "      <td>0</td>\n",
       "      <td>https://www.sephora.com/product/midnight-recov...</td>\n",
       "      <td>4.5</td>\n",
       "      <td>0</td>\n",
       "      <td>0</td>\n",
       "      <td>0</td>\n",
       "      <td>0</td>\n",
       "      <td>0</td>\n",
       "      <td>0</td>\n",
       "      <td>32.0</td>\n",
       "      <td>...</td>\n",
       "      <td>0</td>\n",
       "      <td>0</td>\n",
       "      <td>0</td>\n",
       "      <td>0</td>\n",
       "      <td>0</td>\n",
       "      <td>0</td>\n",
       "      <td>0</td>\n",
       "      <td>0</td>\n",
       "      <td>0</td>\n",
       "      <td>0</td>\n",
       "    </tr>\n",
       "    <tr>\n",
       "      <th>1</th>\n",
       "      <td>1</td>\n",
       "      <td>https://www.sephora.com/product/dermal-quench-...</td>\n",
       "      <td>4.0</td>\n",
       "      <td>0</td>\n",
       "      <td>1</td>\n",
       "      <td>0</td>\n",
       "      <td>0</td>\n",
       "      <td>1</td>\n",
       "      <td>0</td>\n",
       "      <td>98.0</td>\n",
       "      <td>...</td>\n",
       "      <td>0</td>\n",
       "      <td>0</td>\n",
       "      <td>0</td>\n",
       "      <td>0</td>\n",
       "      <td>0</td>\n",
       "      <td>0</td>\n",
       "      <td>0</td>\n",
       "      <td>0</td>\n",
       "      <td>0</td>\n",
       "      <td>0</td>\n",
       "    </tr>\n",
       "    <tr>\n",
       "      <th>2</th>\n",
       "      <td>2</td>\n",
       "      <td>https://www.sephora.com/product/caudalie-vinoc...</td>\n",
       "      <td>4.5</td>\n",
       "      <td>1</td>\n",
       "      <td>0</td>\n",
       "      <td>0</td>\n",
       "      <td>1</td>\n",
       "      <td>0</td>\n",
       "      <td>1</td>\n",
       "      <td>28.0</td>\n",
       "      <td>...</td>\n",
       "      <td>0</td>\n",
       "      <td>0</td>\n",
       "      <td>0</td>\n",
       "      <td>0</td>\n",
       "      <td>0</td>\n",
       "      <td>0</td>\n",
       "      <td>0</td>\n",
       "      <td>0</td>\n",
       "      <td>0</td>\n",
       "      <td>0</td>\n",
       "    </tr>\n",
       "    <tr>\n",
       "      <th>3</th>\n",
       "      <td>3</td>\n",
       "      <td>https://www.sephora.com/product/face-finishing...</td>\n",
       "      <td>4.5</td>\n",
       "      <td>0</td>\n",
       "      <td>0</td>\n",
       "      <td>0</td>\n",
       "      <td>0</td>\n",
       "      <td>0</td>\n",
       "      <td>1</td>\n",
       "      <td>75.0</td>\n",
       "      <td>...</td>\n",
       "      <td>0</td>\n",
       "      <td>0</td>\n",
       "      <td>0</td>\n",
       "      <td>0</td>\n",
       "      <td>0</td>\n",
       "      <td>0</td>\n",
       "      <td>0</td>\n",
       "      <td>0</td>\n",
       "      <td>0</td>\n",
       "      <td>0</td>\n",
       "    </tr>\n",
       "    <tr>\n",
       "      <th>4</th>\n",
       "      <td>4</td>\n",
       "      <td>https://www.sephora.com/product/ole-henriksen-...</td>\n",
       "      <td>4.0</td>\n",
       "      <td>0</td>\n",
       "      <td>1</td>\n",
       "      <td>0</td>\n",
       "      <td>1</td>\n",
       "      <td>1</td>\n",
       "      <td>1</td>\n",
       "      <td>38.0</td>\n",
       "      <td>...</td>\n",
       "      <td>0</td>\n",
       "      <td>0</td>\n",
       "      <td>0</td>\n",
       "      <td>0</td>\n",
       "      <td>0</td>\n",
       "      <td>0</td>\n",
       "      <td>0</td>\n",
       "      <td>0</td>\n",
       "      <td>0</td>\n",
       "      <td>0</td>\n",
       "    </tr>\n",
       "  </tbody>\n",
       "</table>\n",
       "<p>5 rows × 165 columns</p>\n",
       "</div>"
      ],
      "text/plain": [
       "   Unnamed: 0                                        product_url  \\\n",
       "0           0  https://www.sephora.com/product/midnight-recov...   \n",
       "1           1  https://www.sephora.com/product/dermal-quench-...   \n",
       "2           2  https://www.sephora.com/product/caudalie-vinoc...   \n",
       "3           3  https://www.sephora.com/product/face-finishing...   \n",
       "4           4  https://www.sephora.com/product/ole-henriksen-...   \n",
       "\n",
       "   overall_ratings  is_vegan  is_cruelty_free  award_wins  is_clean_product  \\\n",
       "0              4.5         0                0           0                 0   \n",
       "1              4.0         0                1           0                 0   \n",
       "2              4.5         1                0           0                 1   \n",
       "3              4.5         0                0           0                 0   \n",
       "4              4.0         0                1           0                 1   \n",
       "\n",
       "   has_clinical_results  has_alcohol  price  ...  brand_bareMinerals  \\\n",
       "0                     0            0   32.0  ...                   0   \n",
       "1                     1            0   98.0  ...                   0   \n",
       "2                     0            1   28.0  ...                   0   \n",
       "3                     0            1   75.0  ...                   0   \n",
       "4                     1            1   38.0  ...                   0   \n",
       "\n",
       "   brand_belif  brand_fresh  brand_goop  brand_innisfree  brand_lilah b.  \\\n",
       "0            0            0           0                0               0   \n",
       "1            0            0           0                0               0   \n",
       "2            0            0           0                0               0   \n",
       "3            0            0           0                0               0   \n",
       "4            0            0           0                0               0   \n",
       "\n",
       "   brand_philosophy  brand_rms beauty  brand_tarte  brand_trèStiQue  \n",
       "0                 0                 0            0                0  \n",
       "1                 0                 0            0                0  \n",
       "2                 0                 0            0                0  \n",
       "3                 0                 0            0                0  \n",
       "4                 0                 0            0                0  \n",
       "\n",
       "[5 rows x 165 columns]"
      ]
     },
     "execution_count": 2,
     "metadata": {},
     "output_type": "execute_result"
    }
   ],
   "source": [
    "train = pd.read_csv('sephora_train_data.csv')\n",
    "test = pd.read_csv('sephora_test_data.csv')\n",
    "train.head()"
   ]
  },
  {
   "cell_type": "code",
   "execution_count": 3,
   "id": "through-microphone",
   "metadata": {},
   "outputs": [],
   "source": [
    "train['>4s'] = train['overall_ratings'].apply(lambda x: int(x>4))\n",
    "test['>4s'] = test['overall_ratings'].apply(lambda x: int(x>4))"
   ]
  },
  {
   "cell_type": "markdown",
   "id": "pretty-designation",
   "metadata": {},
   "source": [
    "# Binary Binning"
   ]
  },
  {
   "cell_type": "code",
   "execution_count": 4,
   "id": "miniature-senate",
   "metadata": {},
   "outputs": [
    {
     "data": {
      "text/plain": [
       "((658, 162), (282, 162))"
      ]
     },
     "execution_count": 4,
     "metadata": {},
     "output_type": "execute_result"
    }
   ],
   "source": [
    "#### Creates the training set to train our regression model on\n",
    "y_train_orig = train['>4s']\n",
    "X_train_orig = train.drop(['>4s', 'overall_ratings', 'product_url', 'Unnamed: 0'], axis = 1)\n",
    "\n",
    "Xtest = test.drop(['>4s', 'overall_ratings', 'product_url', 'Unnamed: 0'], axis = 1)\n",
    "ytest = test['>4s']\n",
    "\n",
    "X_train, X_test, y_train, y_test = train_test_split(X_train_orig, y_train_orig, test_size=0.3, random_state=404)\n",
    "X_train.shape, X_test.shape"
   ]
  },
  {
   "cell_type": "code",
   "execution_count": 5,
   "id": "exclusive-iceland",
   "metadata": {},
   "outputs": [
    {
     "data": {
      "text/plain": [
       "GridSearchCV(cv=5, estimator=RandomForestClassifier(),\n",
       "             param_grid={'max_depth': array([ 20,  40,  60,  80, 100]),\n",
       "                         'max_features': array([ 1,  5,  9, 13, 17, 21, 25, 30]),\n",
       "                         'min_samples_leaf': [5],\n",
       "                         'n_estimators': [100, 250, 500, 750],\n",
       "                         'random_state': [404]},\n",
       "             scoring='accuracy')"
      ]
     },
     "execution_count": 5,
     "metadata": {},
     "output_type": "execute_result"
    }
   ],
   "source": [
    "grid_values = {'max_features': np.linspace(1,30,8, dtype='int32'),\n",
    "               'max_depth': np.linspace(20,100,5, dtype='int32'),\n",
    "               'min_samples_leaf': [5],\n",
    "               'n_estimators': [100, 250, 500, 750],\n",
    "               'random_state': [404]}\n",
    "\n",
    "rf2 = RandomForestClassifier() \n",
    "rf_cv = GridSearchCV(rf2, param_grid=grid_values, scoring='accuracy', cv=5)\n",
    "rf_cv.fit(X_train, y_train)"
   ]
  },
  {
   "cell_type": "code",
   "execution_count": 6,
   "id": "developed-malaysia",
   "metadata": {},
   "outputs": [
    {
     "data": {
      "text/plain": [
       "(0.5, 0.6)"
      ]
     },
     "execution_count": 6,
     "metadata": {},
     "output_type": "execute_result"
    },
    {
     "data": {
      "image/png": "[encoded data removed]",
      "text/plain": [
       "<Figure size 576x432 with 1 Axes>"
      ]
     },
     "metadata": {
      "needs_background": "light"
     },
     "output_type": "display_data"
    }
   ],
   "source": [
    "max_features = rf_cv.cv_results_['param_max_depth'].data\n",
    "accuracy_scores = rf_cv.cv_results_['mean_test_score']\n",
    "\n",
    "plt.figure(figsize=(8, 6))\n",
    "plt.xlabel('max_depth', fontsize=16)\n",
    "plt.ylabel('CV Accuracy', fontsize=16)\n",
    "plt.scatter(max_features, accuracy_scores, s=30)\n",
    "plt.plot(max_features, accuracy_scores, linewidth=3)\n",
    "plt.grid(True, which='both')\n",
    "plt.xlim([0, 100])\n",
    "plt.ylim([0.5, 0.6])"
   ]
  },
  {
   "cell_type": "markdown",
   "id": "engaged-activation",
   "metadata": {},
   "source": [
    "Depth doesn't change the score from above."
   ]
  },
  {
   "cell_type": "code",
   "execution_count": 7,
   "id": "upset-cartoon",
   "metadata": {},
   "outputs": [
    {
     "data": {
      "text/plain": [
       "(0.5, 0.6)"
      ]
     },
     "execution_count": 7,
     "metadata": {},
     "output_type": "execute_result"
    },
    {
     "data": {
      "image/png": "[encoded data removed]",
      "text/plain": [
       "<Figure size 576x432 with 1 Axes>"
      ]
     },
     "metadata": {
      "needs_background": "light"
     },
     "output_type": "display_data"
    }
   ],
   "source": [
    "max_features = rf_cv.cv_results_['param_max_features'].data\n",
    "accuracy_scores = rf_cv.cv_results_['mean_test_score']\n",
    "\n",
    "plt.figure(figsize=(8, 6))\n",
    "plt.xlabel('max_features', fontsize=16)\n",
    "plt.ylabel('CV Accuracy', fontsize=16)\n",
    "plt.scatter(max_features, accuracy_scores, s=30)\n",
    "plt.plot(max_features, accuracy_scores, linewidth=3)\n",
    "plt.grid(True, which='both')\n",
    "plt.xlim([0, 30])\n",
    "plt.ylim([0.5, 0.6])"
   ]
  },
  {
   "cell_type": "markdown",
   "id": "capable-basin",
   "metadata": {},
   "source": [
    "Feature does change the score. 17 is the max."
   ]
  },
  {
   "cell_type": "code",
   "execution_count": 8,
   "id": "whole-webcam",
   "metadata": {},
   "outputs": [
    {
     "data": {
      "text/plain": [
       "(0.5, 0.6)"
      ]
     },
     "execution_count": 8,
     "metadata": {},
     "output_type": "execute_result"
    },
    {
     "data": {
      "image/png": "[encoded data removed]",
      "text/plain": [
       "<Figure size 576x432 with 1 Axes>"
      ]
     },
     "metadata": {
      "needs_background": "light"
     },
     "output_type": "display_data"
    }
   ],
   "source": [
    "max_features = rf_cv.cv_results_['param_n_estimators'].data\n",
    "accuracy_scores = rf_cv.cv_results_['mean_test_score']\n",
    "\n",
    "plt.figure(figsize=(8, 6))\n",
    "plt.xlabel('n_estimators', fontsize=16)\n",
    "plt.ylabel('CV Accuracy', fontsize=16)\n",
    "plt.scatter(max_features, accuracy_scores, s=30)\n",
    "plt.plot(max_features, accuracy_scores, linewidth=3)\n",
    "plt.grid(True, which='both')\n",
    "plt.xlim([100, 750])\n",
    "plt.ylim([0.5, 0.6])"
   ]
  },
  {
   "cell_type": "markdown",
   "id": "effective-cocktail",
   "metadata": {},
   "source": [
    "Max is at 500 features."
   ]
  },
  {
   "cell_type": "code",
   "execution_count": 9,
   "id": "vocal-prompt",
   "metadata": {},
   "outputs": [
    {
     "data": {
      "text/plain": [
       "GridSearchCV(cv=5, estimator=RandomForestClassifier(),\n",
       "             param_grid={'max_depth': [20],\n",
       "                         'max_features': array([ 5,  5,  6,  7,  8,  8,  9, 10, 11, 12, 12, 13, 14, 15, 16, 16, 17,\n",
       "       18, 19, 20]),\n",
       "                         'min_samples_leaf': [5], 'n_estimators': [500],\n",
       "                         'random_state': [404]},\n",
       "             scoring='accuracy')"
      ]
     },
     "execution_count": 9,
     "metadata": {},
     "output_type": "execute_result"
    }
   ],
   "source": [
    "grid_values = {'max_features': np.linspace(5,20,20, dtype='int32'),\n",
    "               'max_depth': [20],\n",
    "               'min_samples_leaf': [5],\n",
    "               'n_estimators': [500],\n",
    "               'random_state': [404]}\n",
    "\n",
    "rf2 = RandomForestClassifier() \n",
    "rf_cv = GridSearchCV(rf2, param_grid=grid_values, scoring='accuracy', cv=5)\n",
    "rf_cv.fit(X_train, y_train)"
   ]
  },
  {
   "cell_type": "code",
   "execution_count": 10,
   "id": "posted-immune",
   "metadata": {},
   "outputs": [
    {
     "data": {
      "text/plain": [
       "(0.5, 0.6)"
      ]
     },
     "execution_count": 10,
     "metadata": {},
     "output_type": "execute_result"
    },
    {
     "data": {
      "image/png": "[encoded data removed]",
      "text/plain": [
       "<Figure size 576x432 with 1 Axes>"
      ]
     },
     "metadata": {
      "needs_background": "light"
     },
     "output_type": "display_data"
    }
   ],
   "source": [
    "max_features = rf_cv.cv_results_['param_max_features'].data\n",
    "accuracy_scores = rf_cv.cv_results_['mean_test_score']\n",
    "\n",
    "plt.figure(figsize=(8, 6))\n",
    "plt.xlabel('max_features', fontsize=16)\n",
    "plt.ylabel('CV Accuracy', fontsize=16)\n",
    "plt.scatter(max_features, accuracy_scores, s=30)\n",
    "plt.plot(max_features, accuracy_scores, linewidth=3)\n",
    "plt.grid(True, which='both')\n",
    "plt.xlim([5, 20])\n",
    "plt.ylim([0.5, 0.6])"
   ]
  },
  {
   "cell_type": "code",
   "execution_count": 5,
   "id": "danish-raising",
   "metadata": {},
   "outputs": [
    {
     "data": {
      "text/plain": [
       "RandomForestClassifier(max_depth=20, max_features=20, n_estimators=500,\n",
       "                       random_state=404)"
      ]
     },
     "execution_count": 5,
     "metadata": {},
     "output_type": "execute_result"
    }
   ],
   "source": [
    "rf = RandomForestClassifier(random_state = 404, n_estimators = 500, max_features = 20, max_depth = 20)\n",
    "rf.fit(X_train_orig, y_train_orig)"
   ]
  },
  {
   "cell_type": "code",
   "execution_count": 6,
   "id": "dynamic-competition",
   "metadata": {},
   "outputs": [
    {
     "name": "stdout",
     "output_type": "stream",
     "text": [
      "Confusion Matrix: \n",
      " [[65 54]\n",
      " [37 80]]\n",
      "\n",
      "Accuracy: 0.614406779661017\n"
     ]
    }
   ],
   "source": [
    "y_pred = rf.predict(Xtest)\n",
    "cm = confusion_matrix(ytest, y_pred)\n",
    "print (\"Confusion Matrix: \\n\", cm)\n",
    "print (\"\\nAccuracy:\", accuracy_score(ytest, y_pred))"
   ]
  },
  {
   "cell_type": "markdown",
   "id": "fatty-advance",
   "metadata": {},
   "source": [
    "# Binning according to rating (RF)"
   ]
  },
  {
   "cell_type": "markdown",
   "id": "official-triumph",
   "metadata": {},
   "source": [
    "Creating the bins by changing the results to categories -- This is done by converting the overalls to categories."
   ]
  },
  {
   "cell_type": "code",
   "execution_count": 7,
   "id": "smooth-boundary",
   "metadata": {},
   "outputs": [],
   "source": [
    "def multi_bin(dataset):\n",
    "    solution = np.zeros([(len(dataset)), 11])\n",
    "    for i, j in enumerate(dataset):\n",
    "        solution[i][int(j*2)] = 1\n",
    "    return solution"
   ]
  },
  {
   "cell_type": "code",
   "execution_count": 8,
   "id": "alternate-aerospace",
   "metadata": {},
   "outputs": [],
   "source": [
    "y_multitrain = multi_bin(train['overall_ratings'].values)\n",
    "y_multitest = multi_bin(test['overall_ratings'].values)"
   ]
  },
  {
   "cell_type": "code",
   "execution_count": 9,
   "id": "nutritional-tours",
   "metadata": {},
   "outputs": [
    {
     "data": {
      "text/plain": [
       "array([0., 0., 0., 0., 0., 0., 0., 0., 0., 1., 0.])"
      ]
     },
     "execution_count": 9,
     "metadata": {},
     "output_type": "execute_result"
    }
   ],
   "source": [
    "y_multitrain[0]"
   ]
  },
  {
   "cell_type": "code",
   "execution_count": 10,
   "id": "basic-mobile",
   "metadata": {},
   "outputs": [
    {
     "data": {
      "text/plain": [
       "((658, 162), (282, 162))"
      ]
     },
     "execution_count": 10,
     "metadata": {},
     "output_type": "execute_result"
    }
   ],
   "source": [
    "X_train_multi, X_test_multi, y_train_multi, y_test_multi = train_test_split(X_train_orig, y_multitrain,\n",
    "                                                                            test_size=0.3, random_state=404)\n",
    "X_train.shape, X_test.shape"
   ]
  },
  {
   "cell_type": "code",
   "execution_count": 17,
   "id": "inappropriate-worse",
   "metadata": {},
   "outputs": [
    {
     "data": {
      "text/plain": [
       "GridSearchCV(cv=5, estimator=RandomForestClassifier(),\n",
       "             param_grid={'max_depth': array([ 20,  40,  60,  80, 100]),\n",
       "                         'max_features': array([ 1,  5,  9, 13, 17, 21, 25, 30]),\n",
       "                         'min_samples_leaf': [5, 10, 15], 'n_estimators': [500],\n",
       "                         'random_state': [404]},\n",
       "             scoring='accuracy')"
      ]
     },
     "execution_count": 17,
     "metadata": {},
     "output_type": "execute_result"
    }
   ],
   "source": [
    "grid_values = {'max_features': np.linspace(1,30,8, dtype='int32'),\n",
    "               'max_depth': np.linspace(20,100,5, dtype='int32'),\n",
    "               'min_samples_leaf': [5, 10, 15],\n",
    "               'n_estimators': [500],\n",
    "               'random_state': [404]}\n",
    "\n",
    "rf_multi = RandomForestClassifier() \n",
    "rf_cv_multi = GridSearchCV(rf_multi, param_grid=grid_values, scoring='accuracy', cv=5)\n",
    "rf_cv_multi.fit(X_train, y_train_multi)"
   ]
  },
  {
   "cell_type": "code",
   "execution_count": 18,
   "id": "north-french",
   "metadata": {},
   "outputs": [
    {
     "data": {
      "text/plain": [
       "(0.1, 0.3)"
      ]
     },
     "execution_count": 18,
     "metadata": {},
     "output_type": "execute_result"
    },
    {
     "data": {
      "image/png": "[encoded data removed]",
      "text/plain": [
       "<Figure size 576x432 with 1 Axes>"
      ]
     },
     "metadata": {
      "needs_background": "light"
     },
     "output_type": "display_data"
    }
   ],
   "source": [
    "max_features = rf_cv_multi.cv_results_['param_max_depth'].data\n",
    "accuracy_scores = rf_cv_multi.cv_results_['mean_test_score']\n",
    "\n",
    "plt.figure(figsize=(8, 6))\n",
    "plt.xlabel('max_depth', fontsize=16)\n",
    "plt.ylabel('CV Accuracy', fontsize=16)\n",
    "plt.scatter(max_features, accuracy_scores, s=30)\n",
    "plt.plot(max_features, accuracy_scores, linewidth=3)\n",
    "plt.grid(True, which='both')\n",
    "plt.xlim([0, 100])\n",
    "plt.ylim([0.1, 0.3])"
   ]
  },
  {
   "cell_type": "code",
   "execution_count": 19,
   "id": "dynamic-olympus",
   "metadata": {},
   "outputs": [
    {
     "data": {
      "text/plain": [
       "(0.1, 0.3)"
      ]
     },
     "execution_count": 19,
     "metadata": {},
     "output_type": "execute_result"
    },
    {
     "data": {
      "image/png": "[encoded data removed]",
      "text/plain": [
       "<Figure size 576x432 with 1 Axes>"
      ]
     },
     "metadata": {
      "needs_background": "light"
     },
     "output_type": "display_data"
    }
   ],
   "source": [
    "max_features = rf_cv_multi.cv_results_['param_max_features'].data\n",
    "accuracy_scores = rf_cv_multi.cv_results_['mean_test_score']\n",
    "\n",
    "plt.figure(figsize=(8, 6))\n",
    "plt.xlabel('max_features', fontsize=16)\n",
    "plt.ylabel('CV Accuracy', fontsize=16)\n",
    "plt.scatter(max_features, accuracy_scores, s=30)\n",
    "plt.plot(max_features, accuracy_scores, linewidth=3)\n",
    "plt.grid(True, which='both')\n",
    "plt.xlim([0, 30])\n",
    "plt.ylim([0.1, 0.3])"
   ]
  },
  {
   "cell_type": "code",
   "execution_count": 12,
   "id": "hollywood-divide",
   "metadata": {},
   "outputs": [
    {
     "data": {
      "text/plain": [
       "RandomForestClassifier(max_depth=20, max_features=30, n_estimators=500,\n",
       "                       random_state=404)"
      ]
     },
     "execution_count": 12,
     "metadata": {},
     "output_type": "execute_result"
    }
   ],
   "source": [
    "rf_multi = RandomForestClassifier(random_state = 404, n_estimators = 500, max_features = 30, max_depth = 20)\n",
    "rf_multi.fit(X_train_orig, y_multitrain)"
   ]
  },
  {
   "cell_type": "code",
   "execution_count": 13,
   "id": "empirical-montreal",
   "metadata": {},
   "outputs": [
    {
     "name": "stdout",
     "output_type": "stream",
     "text": [
      "proportion of all 0s 0.3983050847457627\n",
      "\n",
      "Accuracy: 0.4915254237288136\n"
     ]
    }
   ],
   "source": [
    "y_pred = rf_multi.predict(Xtest)\n",
    "counter = 0\n",
    "for i, j in enumerate(y_pred):\n",
    "    if sum(y_pred[i]) < 1:\n",
    "        y_pred[i] = np.array([0., 0., 0., 0., 0., 0., 0., 0., 0., 1., 0.])\n",
    "        counter += 1\n",
    "print('proportion of all 0s', counter/len(y_pred))\n",
    "#cm = confusion_matrix(y_multitest, y_pred)\n",
    "#print (\"Confusion Matrix: \\n\", cm)\n",
    "print (\"\\nAccuracy:\", accuracy_score(y_multitest, y_pred))"
   ]
  },
  {
   "cell_type": "markdown",
   "id": "elegant-worship",
   "metadata": {},
   "source": [
    "# Switching to regression"
   ]
  },
  {
   "cell_type": "code",
   "execution_count": 14,
   "id": "silver-flour",
   "metadata": {},
   "outputs": [
    {
     "data": {
      "text/plain": [
       "RandomForestRegressor(max_depth=20, max_features=30, n_estimators=500,\n",
       "                      random_state=404)"
      ]
     },
     "execution_count": 14,
     "metadata": {},
     "output_type": "execute_result"
    }
   ],
   "source": [
    "rf_regression = RandomForestRegressor(random_state = 404, n_estimators = 500, max_features = 30, max_depth = 20)\n",
    "rf_regression.fit(X_train_orig, train['overall_ratings'])"
   ]
  },
  {
   "cell_type": "code",
   "execution_count": 16,
   "id": "excess-merchant",
   "metadata": {},
   "outputs": [],
   "source": [
    "y_pred = rf_regression.predict(Xtest)"
   ]
  },
  {
   "cell_type": "code",
   "execution_count": 17,
   "id": "lesser-challenge",
   "metadata": {},
   "outputs": [],
   "source": [
    "def OSR2(model, X_test, y_test, y_train):\n",
    "    \n",
    "    y_pred = model.predict(X_test)\n",
    "    SSE = np.sum((y_test - y_pred)**2)\n",
    "    SST = np.sum((y_test - np.mean(y_train))**2)\n",
    "                 \n",
    "    return (1 - SSE/SST)"
   ]
  },
  {
   "cell_type": "code",
   "execution_count": 20,
   "id": "younger-refund",
   "metadata": {},
   "outputs": [
    {
     "data": {
      "text/plain": [
       "-0.08700617491859464"
      ]
     },
     "execution_count": 20,
     "metadata": {},
     "output_type": "execute_result"
    }
   ],
   "source": [
    "OSR2(rf_regression, Xtest, test['overall_ratings'], train['overall_ratings'])"
   ]
  },
  {
   "cell_type": "code",
   "execution_count": 21,
   "id": "covered-swaziland",
   "metadata": {},
   "outputs": [
    {
     "name": "stdout",
     "output_type": "stream",
     "text": [
      "mean squared error: 0.17477285050004376\n",
      "mean abosolute error: 0.3364851138724896\n"
     ]
    }
   ],
   "source": [
    "from sklearn.metrics import mean_squared_error\n",
    "from sklearn.metrics import mean_absolute_error\n",
    "mse = mean_squared_error(test['overall_ratings'], y_pred)\n",
    "mae = mean_absolute_error(test['overall_ratings'], y_pred)\n",
    "print('mean squared error:', mse)\n",
    "print('mean abosolute error:', mae)"
   ]
  },
  {
   "cell_type": "code",
   "execution_count": 56,
   "id": "ordinary-capture",
   "metadata": {},
   "outputs": [],
   "source": [
    "def convert_to_bins(results):\n",
    "    predict = np.zeros((len(results), 11))\n",
    "    bins = (y_pred/.5).round()\n",
    "    for i,j in enumerate(bins):\n",
    "        predict[i, int(j)] = 1\n",
    "    return predict"
   ]
  },
  {
   "cell_type": "code",
   "execution_count": 59,
   "id": "detected-nerve",
   "metadata": {
    "scrolled": true
   },
   "outputs": [],
   "source": [
    "converted = convert_to_bins(y_pred)"
   ]
  },
  {
   "cell_type": "code",
   "execution_count": 60,
   "id": "attractive-anxiety",
   "metadata": {},
   "outputs": [
    {
     "name": "stdout",
     "output_type": "stream",
     "text": [
      "\n",
      "Accuracy: 0.4364406779661017\n"
     ]
    }
   ],
   "source": [
    "print (\"\\nAccuracy:\", accuracy_score(y_multitest, converted))"
   ]
  },
  {
   "cell_type": "markdown",
   "id": "electrical-sewing",
   "metadata": {},
   "source": [
    "# Boosting CART"
   ]
  },
  {
   "cell_type": "code",
   "execution_count": null,
   "id": "better-cemetery",
   "metadata": {},
   "outputs": [],
   "source": []
  }
 ],
 "metadata": {
  "kernelspec": {
   "display_name": "Python 3",
   "language": "python",
   "name": "python3"
  },
  "language_info": {
   "codemirror_mode": {
    "name": "ipython",
    "version": 3
   },
   "file_extension": ".py",
   "mimetype": "text/x-python",
   "name": "python",
   "nbconvert_exporter": "python",
   "pygments_lexer": "ipython3",
   "version": "3.8.5"
  }
 },
 "nbformat": 4,
 "nbformat_minor": 5
}
