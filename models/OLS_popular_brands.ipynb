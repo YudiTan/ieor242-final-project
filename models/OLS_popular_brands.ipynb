{
 "cells": [
  {
   "cell_type": "code",
   "execution_count": 1,
   "metadata": {},
   "outputs": [],
   "source": [
    "import numpy as np\n",
    "import pandas as pd\n",
    "import statsmodels.api as sm\n",
    "import statsmodels.formula.api as smf"
   ]
  },
  {
   "cell_type": "code",
   "execution_count": 2,
   "metadata": {},
   "outputs": [],
   "source": [
    "sephora_train = pd.read_csv(\"../sephora_train_data.csv\")\n",
    "sephora_test = pd.read_csv(\"../sephora_test_data.csv\")"
   ]
  },
  {
   "cell_type": "code",
   "execution_count": 3,
   "metadata": {},
   "outputs": [
    {
     "name": "stdout",
     "output_type": "stream",
     "text": [
      "                            OLS Regression Results                            \n",
      "==============================================================================\n",
      "Dep. Variable:        overall_ratings   R-squared:                       0.047\n",
      "Model:                            OLS   Adj. R-squared:                  0.022\n",
      "Method:                 Least Squares   F-statistic:                     1.863\n",
      "Date:                Tue, 04 May 2021   Prob (F-statistic):            0.00730\n",
      "Time:                        14:44:32   Log-Likelihood:                -588.09\n",
      "No. Observations:                 940   AIC:                             1226.\n",
      "Df Residuals:                     915   BIC:                             1347.\n",
      "Df Model:                          24                                         \n",
      "Covariance Type:            nonrobust                                         \n",
      "======================================================================================================\n",
      "                                         coef    std err          t      P>|t|      [0.025      0.975]\n",
      "------------------------------------------------------------------------------------------------------\n",
      "Intercept                              4.1142      0.057     71.875      0.000       4.002       4.227\n",
      "is_vegan                              -0.0142      0.053     -0.271      0.787      -0.117       0.089\n",
      "is_cruelty_free                        0.0590      0.044      1.340      0.181      -0.027       0.145\n",
      "is_clean_product                      -0.0113      0.041     -0.272      0.785      -0.093       0.070\n",
      "has_clinical_results                  -0.0586      0.034     -1.728      0.084      -0.125       0.008\n",
      "has_alcohol                           -0.0382      0.038     -1.012      0.312      -0.112       0.036\n",
      "price                                  0.0002      0.000      0.529      0.597      -0.001       0.001\n",
      "sizing_options_count                   0.0397      0.035      1.129      0.259      -0.029       0.109\n",
      "image_count                            0.0151      0.008      1.971      0.049    6.65e-05       0.030\n",
      "video_count                            0.0127      0.019      0.658      0.511      -0.025       0.051\n",
      "combination_skin_type                 -0.0302      0.074     -0.406      0.685      -0.176       0.116\n",
      "dry_skin_type                         -0.0171      0.061     -0.279      0.780      -0.138       0.103\n",
      "normal_skin_type                       0.0229      0.070      0.329      0.743      -0.114       0.159\n",
      "oily_skin_type                        -0.0652      0.064     -1.011      0.312      -0.192       0.061\n",
      "wrinkles_skincare_concerns            -0.0042      0.047     -0.089      0.929      -0.097       0.088\n",
      "dryness_skincare_concerns              0.0395      0.043      0.917      0.359      -0.045       0.124\n",
      "uneven_tone_skincare_concerns         -0.3385      0.127     -2.671      0.008      -0.587      -0.090\n",
      "loss_of_firmness_skincare_concerns    -0.0046      0.060     -0.077      0.939      -0.123       0.113\n",
      "acne_skincare_concerns                 0.0208      0.067      0.311      0.756      -0.110       0.152\n",
      "dark_spots_skincare_concerns           0.0324      0.073      0.444      0.657      -0.111       0.175\n",
      "uneven_texture_skincare_concerns       0.0219      0.041      0.535      0.593      -0.059       0.102\n",
      "redness_skincare_concerns              0.0007      0.062      0.011      0.991      -0.120       0.122\n",
      "oiliness_skincare_concerns             0.0495      0.060      0.824      0.410      -0.068       0.167\n",
      "pores_skincare_concerns                0.1557      0.050      3.111      0.002       0.057       0.254\n",
      "from_famous_brand                     -0.0129      0.034     -0.383      0.702      -0.079       0.053\n",
      "==============================================================================\n",
      "Omnibus:                      360.031   Durbin-Watson:                   1.995\n",
      "Prob(Omnibus):                  0.000   Jarque-Bera (JB):             2111.357\n",
      "Skew:                          -1.643   Prob(JB):                         0.00\n",
      "Kurtosis:                       9.566   Cond. No.                         582.\n",
      "==============================================================================\n",
      "\n",
      "Notes:\n",
      "[1] Standard Errors assume that the covariance matrix of the errors is correctly specified.\n"
     ]
    }
   ],
   "source": [
    "sephora_ols = smf.ols(formula = 'overall_ratings ~ is_vegan + is_cruelty_free + is_clean_product + has_clinical_results + has_alcohol + price + sizing_options_count + image_count + video_count + combination_skin_type + dry_skin_type + normal_skin_type + oily_skin_type + wrinkles_skincare_concerns + dryness_skincare_concerns + uneven_tone_skincare_concerns + loss_of_firmness_skincare_concerns + acne_skincare_concerns + dark_spots_skincare_concerns + uneven_texture_skincare_concerns + redness_skincare_concerns + oiliness_skincare_concerns + pores_skincare_concerns + from_famous_brand',\n",
    "                 data=sephora_train).fit()\n",
    "\n",
    "print(sephora_ols.summary())"
   ]
  },
  {
   "cell_type": "code",
   "execution_count": 4,
   "metadata": {},
   "outputs": [
    {
     "name": "stdout",
     "output_type": "stream",
     "text": [
      "                            OLS Regression Results                            \n",
      "==============================================================================\n",
      "Dep. Variable:        overall_ratings   R-squared:                       0.046\n",
      "Model:                            OLS   Adj. R-squared:                  0.029\n",
      "Method:                 Least Squares   F-statistic:                     2.780\n",
      "Date:                Tue, 04 May 2021   Prob (F-statistic):           0.000214\n",
      "Time:                        14:44:32   Log-Likelihood:                -588.39\n",
      "No. Observations:                 940   AIC:                             1211.\n",
      "Df Residuals:                     923   BIC:                             1293.\n",
      "Df Model:                          16                                         \n",
      "Covariance Type:            nonrobust                                         \n",
      "====================================================================================================\n",
      "                                       coef    std err          t      P>|t|      [0.025      0.975]\n",
      "----------------------------------------------------------------------------------------------------\n",
      "Intercept                            4.1077      0.053     78.204      0.000       4.005       4.211\n",
      "is_cruelty_free                      0.0536      0.036      1.469      0.142      -0.018       0.125\n",
      "has_clinical_results                -0.0610      0.033     -1.844      0.066      -0.126       0.004\n",
      "has_alcohol                         -0.0431      0.035     -1.221      0.223      -0.112       0.026\n",
      "price                                0.0002      0.000      0.500      0.617      -0.001       0.001\n",
      "sizing_options_count                 0.0396      0.035      1.137      0.256      -0.029       0.108\n",
      "image_count                          0.0155      0.007      2.097      0.036       0.001       0.030\n",
      "video_count                          0.0126      0.019      0.659      0.510      -0.025       0.050\n",
      "combination_skin_type               -0.0330      0.073     -0.453      0.651      -0.176       0.110\n",
      "normal_skin_type                     0.0137      0.060      0.228      0.819      -0.104       0.131\n",
      "oily_skin_type                      -0.0646      0.064     -1.017      0.309      -0.189       0.060\n",
      "dryness_skincare_concerns            0.0318      0.041      0.784      0.434      -0.048       0.112\n",
      "uneven_tone_skincare_concerns       -0.3338      0.125     -2.667      0.008      -0.580      -0.088\n",
      "dark_spots_skincare_concerns         0.0270      0.071      0.379      0.705      -0.113       0.167\n",
      "uneven_texture_skincare_concerns     0.0201      0.039      0.518      0.604      -0.056       0.096\n",
      "oiliness_skincare_concerns           0.0586      0.055      1.069      0.285      -0.049       0.166\n",
      "pores_skincare_concerns              0.1567      0.047      3.352      0.001       0.065       0.249\n",
      "==============================================================================\n",
      "Omnibus:                      362.734   Durbin-Watson:                   1.996\n",
      "Prob(Omnibus):                  0.000   Jarque-Bera (JB):             2161.849\n",
      "Skew:                          -1.652   Prob(JB):                         0.00\n",
      "Kurtosis:                       9.655   Cond. No.                         576.\n",
      "==============================================================================\n",
      "\n",
      "Notes:\n",
      "[1] Standard Errors assume that the covariance matrix of the errors is correctly specified.\n"
     ]
    }
   ],
   "source": [
    "sephora_ols2 = smf.ols(formula = 'overall_ratings ~ is_cruelty_free + has_clinical_results + has_alcohol + price + sizing_options_count + image_count + video_count + combination_skin_type + normal_skin_type + oily_skin_type + dryness_skincare_concerns + uneven_tone_skincare_concerns + dark_spots_skincare_concerns + uneven_texture_skincare_concerns + oiliness_skincare_concerns + pores_skincare_concerns',\n",
    "                 data=sephora_train).fit()\n",
    "\n",
    "print(sephora_ols2.summary())"
   ]
  },
  {
   "cell_type": "code",
   "execution_count": 5,
   "metadata": {},
   "outputs": [
    {
     "name": "stdout",
     "output_type": "stream",
     "text": [
      "                            OLS Regression Results                            \n",
      "==============================================================================\n",
      "Dep. Variable:        overall_ratings   R-squared:                       0.045\n",
      "Model:                            OLS   Adj. R-squared:                  0.034\n",
      "Method:                 Least Squares   F-statistic:                     4.340\n",
      "Date:                Tue, 04 May 2021   Prob (F-statistic):           5.87e-06\n",
      "Time:                        14:44:32   Log-Likelihood:                -589.05\n",
      "No. Observations:                 940   AIC:                             1200.\n",
      "Df Residuals:                     929   BIC:                             1253.\n",
      "Df Model:                          10                                         \n",
      "Covariance Type:            nonrobust                                         \n",
      "=================================================================================================\n",
      "                                    coef    std err          t      P>|t|      [0.025      0.975]\n",
      "-------------------------------------------------------------------------------------------------\n",
      "Intercept                         4.1098      0.051     81.310      0.000       4.011       4.209\n",
      "is_cruelty_free                   0.0580      0.035      1.666      0.096      -0.010       0.126\n",
      "has_clinical_results             -0.0603      0.033     -1.832      0.067      -0.125       0.004\n",
      "has_alcohol                      -0.0389      0.035     -1.115      0.265      -0.107       0.030\n",
      "sizing_options_count              0.0441      0.034      1.304      0.193      -0.022       0.111\n",
      "image_count                       0.0182      0.007      2.686      0.007       0.005       0.031\n",
      "oily_skin_type                   -0.0737      0.037     -1.970      0.049      -0.147      -0.000\n",
      "dryness_skincare_concerns         0.0301      0.035      0.861      0.390      -0.039       0.099\n",
      "uneven_tone_skincare_concerns    -0.3327      0.124     -2.683      0.007      -0.576      -0.089\n",
      "oiliness_skincare_concerns        0.0425      0.052      0.811      0.417      -0.060       0.145\n",
      "pores_skincare_concerns           0.1586      0.046      3.464      0.001       0.069       0.248\n",
      "==============================================================================\n",
      "Omnibus:                      360.448   Durbin-Watson:                   1.996\n",
      "Prob(Omnibus):                  0.000   Jarque-Bera (JB):             2118.749\n",
      "Skew:                          -1.644   Prob(JB):                         0.00\n",
      "Kurtosis:                       9.579   Cond. No.                         39.8\n",
      "==============================================================================\n",
      "\n",
      "Notes:\n",
      "[1] Standard Errors assume that the covariance matrix of the errors is correctly specified.\n"
     ]
    }
   ],
   "source": [
    "sephora_ols3 = smf.ols(formula = 'overall_ratings ~ is_cruelty_free + has_clinical_results + has_alcohol + sizing_options_count + image_count + oily_skin_type + dryness_skincare_concerns + uneven_tone_skincare_concerns + oiliness_skincare_concerns + pores_skincare_concerns',\n",
    "                 data=sephora_train).fit()\n",
    "\n",
    "print(sephora_ols3.summary())"
   ]
  },
  {
   "cell_type": "code",
   "execution_count": 6,
   "metadata": {},
   "outputs": [
    {
     "name": "stdout",
     "output_type": "stream",
     "text": [
      "                            OLS Regression Results                            \n",
      "==============================================================================\n",
      "Dep. Variable:        overall_ratings   R-squared:                       0.037\n",
      "Model:                            OLS   Adj. R-squared:                  0.032\n",
      "Method:                 Least Squares   F-statistic:                     7.151\n",
      "Date:                Tue, 04 May 2021   Prob (F-statistic):           1.41e-06\n",
      "Time:                        14:44:32   Log-Likelihood:                -592.86\n",
      "No. Observations:                 940   AIC:                             1198.\n",
      "Df Residuals:                     934   BIC:                             1227.\n",
      "Df Model:                           5                                         \n",
      "Covariance Type:            nonrobust                                         \n",
      "=================================================================================================\n",
      "                                    coef    std err          t      P>|t|      [0.025      0.975]\n",
      "-------------------------------------------------------------------------------------------------\n",
      "Intercept                         4.1397      0.030    137.545      0.000       4.081       4.199\n",
      "has_clinical_results             -0.0621      0.033     -1.895      0.058      -0.126       0.002\n",
      "image_count                       0.0213      0.007      3.235      0.001       0.008       0.034\n",
      "oily_skin_type                   -0.0453      0.033     -1.362      0.174      -0.111       0.020\n",
      "uneven_tone_skincare_concerns    -0.3204      0.124     -2.592      0.010      -0.563      -0.078\n",
      "pores_skincare_concerns           0.1759      0.043      4.123      0.000       0.092       0.260\n",
      "==============================================================================\n",
      "Omnibus:                      361.036   Durbin-Watson:                   1.987\n",
      "Prob(Omnibus):                  0.000   Jarque-Bera (JB):             2103.945\n",
      "Skew:                          -1.651   Prob(JB):                         0.00\n",
      "Kurtosis:                       9.543   Cond. No.                         37.9\n",
      "==============================================================================\n",
      "\n",
      "Notes:\n",
      "[1] Standard Errors assume that the covariance matrix of the errors is correctly specified.\n"
     ]
    }
   ],
   "source": [
    "sephora_ols4 = smf.ols(formula = 'overall_ratings ~ has_clinical_results + image_count + oily_skin_type + uneven_tone_skincare_concerns + pores_skincare_concerns',\n",
    "                 data=sephora_train).fit()\n",
    "\n",
    "print(sephora_ols4.summary())"
   ]
  },
  {
   "cell_type": "code",
   "execution_count": 7,
   "metadata": {},
   "outputs": [
    {
     "name": "stdout",
     "output_type": "stream",
     "text": [
      "                            OLS Regression Results                            \n",
      "==============================================================================\n",
      "Dep. Variable:        overall_ratings   R-squared:                       0.035\n",
      "Model:                            OLS   Adj. R-squared:                  0.031\n",
      "Method:                 Least Squares   F-statistic:                     8.467\n",
      "Date:                Tue, 04 May 2021   Prob (F-statistic):           1.03e-06\n",
      "Time:                        14:44:32   Log-Likelihood:                -593.79\n",
      "No. Observations:                 940   AIC:                             1198.\n",
      "Df Residuals:                     935   BIC:                             1222.\n",
      "Df Model:                           4                                         \n",
      "Covariance Type:            nonrobust                                         \n",
      "=================================================================================================\n",
      "                                    coef    std err          t      P>|t|      [0.025      0.975]\n",
      "-------------------------------------------------------------------------------------------------\n",
      "Intercept                         4.1289      0.029    142.111      0.000       4.072       4.186\n",
      "has_clinical_results             -0.0618      0.033     -1.886      0.060      -0.126       0.003\n",
      "image_count                       0.0191      0.006      2.988      0.003       0.007       0.032\n",
      "uneven_tone_skincare_concerns    -0.3264      0.124     -2.641      0.008      -0.569      -0.084\n",
      "pores_skincare_concerns           0.1546      0.040      3.893      0.000       0.077       0.233\n",
      "==============================================================================\n",
      "Omnibus:                      361.580   Durbin-Watson:                   1.974\n",
      "Prob(Omnibus):                  0.000   Jarque-Bera (JB):             2099.336\n",
      "Skew:                          -1.655   Prob(JB):                         0.00\n",
      "Kurtosis:                       9.530   Cond. No.                         37.6\n",
      "==============================================================================\n",
      "\n",
      "Notes:\n",
      "[1] Standard Errors assume that the covariance matrix of the errors is correctly specified.\n"
     ]
    }
   ],
   "source": [
    "sephora_ols5 = smf.ols(formula = 'overall_ratings ~ has_clinical_results + image_count + uneven_tone_skincare_concerns + pores_skincare_concerns',\n",
    "                 data=sephora_train).fit()\n",
    "\n",
    "print(sephora_ols5.summary())"
   ]
  },
  {
   "cell_type": "code",
   "execution_count": 8,
   "metadata": {},
   "outputs": [
    {
     "name": "stdout",
     "output_type": "stream",
     "text": [
      "                            OLS Regression Results                            \n",
      "==============================================================================\n",
      "Dep. Variable:        overall_ratings   R-squared:                       0.031\n",
      "Model:                            OLS   Adj. R-squared:                  0.028\n",
      "Method:                 Least Squares   F-statistic:                     10.08\n",
      "Date:                Tue, 04 May 2021   Prob (F-statistic):           1.55e-06\n",
      "Time:                        14:44:33   Log-Likelihood:                -595.57\n",
      "No. Observations:                 940   AIC:                             1199.\n",
      "Df Residuals:                     936   BIC:                             1219.\n",
      "Df Model:                           3                                         \n",
      "Covariance Type:            nonrobust                                         \n",
      "=================================================================================================\n",
      "                                    coef    std err          t      P>|t|      [0.025      0.975]\n",
      "-------------------------------------------------------------------------------------------------\n",
      "Intercept                         4.1165      0.028    145.278      0.000       4.061       4.172\n",
      "image_count                       0.0174      0.006      2.750      0.006       0.005       0.030\n",
      "uneven_tone_skincare_concerns    -0.3302      0.124     -2.669      0.008      -0.573      -0.087\n",
      "pores_skincare_concerns           0.1553      0.040      3.905      0.000       0.077       0.233\n",
      "==============================================================================\n",
      "Omnibus:                      365.547   Durbin-Watson:                   1.979\n",
      "Prob(Omnibus):                  0.000   Jarque-Bera (JB):             2157.549\n",
      "Skew:                          -1.670   Prob(JB):                         0.00\n",
      "Kurtosis:                       9.628   Cond. No.                         37.5\n",
      "==============================================================================\n",
      "\n",
      "Notes:\n",
      "[1] Standard Errors assume that the covariance matrix of the errors is correctly specified.\n"
     ]
    }
   ],
   "source": [
    "sephora_ols6 = smf.ols(formula = 'overall_ratings ~ image_count + uneven_tone_skincare_concerns + pores_skincare_concerns',\n",
    "                 data=sephora_train).fit()\n",
    "\n",
    "print(sephora_ols6.summary())"
   ]
  },
  {
   "cell_type": "code",
   "execution_count": 9,
   "metadata": {},
   "outputs": [],
   "source": [
    "def OSR2(model, X_test, y_test, y_train):\n",
    "    \n",
    "    y_pred = model.predict(X_test)\n",
    "    SSE = np.sum((y_test - y_pred)**2)\n",
    "    SST = np.sum((y_test - np.mean(y_train))**2)\n",
    "                 \n",
    "    return (1 - SSE/SST)"
   ]
  },
  {
   "cell_type": "code",
   "execution_count": 10,
   "metadata": {},
   "outputs": [
    {
     "name": "stdout",
     "output_type": "stream",
     "text": [
      "Linear regression OSR2: -0.03676\n"
     ]
    }
   ],
   "source": [
    "y_train = sephora_train['overall_ratings']\n",
    "x_train = sephora_train.drop(['overall_ratings'], axis=1)\n",
    "\n",
    "y_test = sephora_test['overall_ratings']\n",
    "x_test = sephora_test.drop(['overall_ratings'], axis=1)\n",
    "\n",
    "print('Linear regression OSR2:', round(OSR2(sephora_ols5, x_test, y_test, y_train), 5))"
   ]
  },
  {
   "cell_type": "code",
   "execution_count": 11,
   "metadata": {},
   "outputs": [],
   "source": [
    "from sklearn.metrics import confusion_matrix\n",
    "\n",
    "def accuracy (y_test, y_pred):\n",
    "    cm = confusion_matrix(y_test, y_pred)\n",
    "    # Accuracy = (TN + TP) / (P + N)\n",
    "    return (cm.ravel()[0]+cm.ravel()[3])/sum(cm.ravel())\n",
    "\n",
    "def TPR (y_test, y_pred):\n",
    "    cm = confusion_matrix(y_test, y_pred)\n",
    "    #TPR = TP / P\n",
    "    return cm.ravel()[3]/(cm.ravel()[2]+cm.ravel()[3])\n",
    "\n",
    "def FPR (y_test, y_pred):\n",
    "    cm = confusion_matrix(y_test, y_pred)\n",
    "    #FPR = FP / N\n",
    "    return cm.ravel()[1]/(cm.ravel()[0]+cm.ravel()[1])"
   ]
  },
  {
   "cell_type": "code",
   "execution_count": 12,
   "metadata": {},
   "outputs": [],
   "source": [
    "# Try using linear regression predictions and changing to >4 binary variable  to handle classification.\n",
    "y_pred = sephora_ols5.predict(x_test)\n",
    "y_pred = y_pred > 4\n",
    "y_test = y_test > 4"
   ]
  },
  {
   "cell_type": "code",
   "execution_count": 14,
   "metadata": {},
   "outputs": [
    {
     "name": "stdout",
     "output_type": "stream",
     "text": [
      "Accuracy = 0.5, TPR = 0.9913793103448276, FPR = 0.975\n"
     ]
    }
   ],
   "source": [
    "# our model results\n",
    "acc = accuracy(y_test, y_pred)\n",
    "tpr = TPR(y_test, y_pred)\n",
    "fpr = FPR(y_test, y_pred)\n",
    "print(\"Accuracy = {}, TPR = {}, FPR = {}\".format(acc, tpr, fpr))"
   ]
  },
  {
   "cell_type": "code",
   "execution_count": 16,
   "metadata": {},
   "outputs": [
    {
     "data": {
      "text/plain": [
       "True     499\n",
       "False    441\n",
       "Name: overall_ratings, dtype: int64"
      ]
     },
     "execution_count": 16,
     "metadata": {},
     "output_type": "execute_result"
    }
   ],
   "source": [
    "#  baseline results - baseline here means after transforming y_pred to binary, we use the majority as our predictor\n",
    "y_train = y_train > 4\n",
    "y_train.value_counts()"
   ]
  },
  {
   "cell_type": "code",
   "execution_count": 18,
   "metadata": {},
   "outputs": [
    {
     "name": "stdout",
     "output_type": "stream",
     "text": [
      "Accuracy = 0.4915254237288136, TPR = 1.0, FPR = 1.0\n"
     ]
    }
   ],
   "source": [
    "# in the training set, there are more ratings >4 then <=4, so the baseline model just predicts >4 everytime.\n",
    "y_baseline = [True for i in y_test]\n",
    "acc_baseline = accuracy(y_test, y_baseline)\n",
    "tpr_baseline = TPR(y_test, y_baseline)\n",
    "fpr_baseline = FPR(y_test, y_baseline)\n",
    "print(\"Accuracy = {}, TPR = {}, FPR = {}\".format(acc_baseline, tpr_baseline, fpr_baseline))"
   ]
  },
  {
   "cell_type": "code",
   "execution_count": null,
   "metadata": {},
   "outputs": [],
   "source": []
  }
 ],
 "metadata": {
  "kernelspec": {
   "display_name": "Python 3",
   "language": "python",
   "name": "python3"
  },
  "language_info": {
   "codemirror_mode": {
    "name": "ipython",
    "version": 3
   },
   "file_extension": ".py",
   "mimetype": "text/x-python",
   "name": "python",
   "nbconvert_exporter": "python",
   "pygments_lexer": "ipython3",
   "version": "3.6.7"
  }
 },
 "nbformat": 4,
 "nbformat_minor": 2
}
