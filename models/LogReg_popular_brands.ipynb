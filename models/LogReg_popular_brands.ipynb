{
 "cells": [
  {
   "cell_type": "code",
   "execution_count": 1,
   "metadata": {},
   "outputs": [],
   "source": [
    "import numpy as np\n",
    "import pandas as pd\n",
    "import statsmodels.api as sm\n",
    "import statsmodels.formula.api as smf"
   ]
  },
  {
   "cell_type": "code",
   "execution_count": 2,
   "metadata": {},
   "outputs": [],
   "source": [
    "sephora_train = pd.read_csv(\"sephora_train_data_updated.csv\")\n",
    "sephora_test = pd.read_csv(\"sephora_test_data_updated.csv\")"
   ]
  },
  {
   "cell_type": "code",
   "execution_count": 3,
   "metadata": {},
   "outputs": [
    {
     "data": {
      "text/html": [
       "<div>\n",
       "<style scoped>\n",
       "    .dataframe tbody tr th:only-of-type {\n",
       "        vertical-align: middle;\n",
       "    }\n",
       "\n",
       "    .dataframe tbody tr th {\n",
       "        vertical-align: top;\n",
       "    }\n",
       "\n",
       "    .dataframe thead th {\n",
       "        text-align: right;\n",
       "    }\n",
       "</style>\n",
       "<table border=\"1\" class=\"dataframe\">\n",
       "  <thead>\n",
       "    <tr style=\"text-align: right;\">\n",
       "      <th></th>\n",
       "      <th>Unnamed: 0</th>\n",
       "      <th>product_url</th>\n",
       "      <th>overall_ratings</th>\n",
       "      <th>is_vegan</th>\n",
       "      <th>is_cruelty_free</th>\n",
       "      <th>award_wins</th>\n",
       "      <th>is_clean_product</th>\n",
       "      <th>has_clinical_results</th>\n",
       "      <th>has_alcohol</th>\n",
       "      <th>price</th>\n",
       "      <th>...</th>\n",
       "      <th>targets_signs_of_aging_skincare_concerns</th>\n",
       "      <th>puffiness_skincare_concerns</th>\n",
       "      <th>lightweight_liquid_skincare_concerns</th>\n",
       "      <th>uneven_texture_skincare_concerns</th>\n",
       "      <th>redness_skincare_concerns</th>\n",
       "      <th>oiliness_skincare_concerns</th>\n",
       "      <th>makeup_removal_skincare_concerns</th>\n",
       "      <th>pores_skincare_concerns</th>\n",
       "      <th>from_famous_brand</th>\n",
       "      <th>rating_above_four</th>\n",
       "    </tr>\n",
       "  </thead>\n",
       "  <tbody>\n",
       "    <tr>\n",
       "      <td>0</td>\n",
       "      <td>0</td>\n",
       "      <td>https://www.sephora.com/product/pore-refining-...</td>\n",
       "      <td>4.5</td>\n",
       "      <td>0</td>\n",
       "      <td>0</td>\n",
       "      <td>0</td>\n",
       "      <td>0</td>\n",
       "      <td>0</td>\n",
       "      <td>0</td>\n",
       "      <td>58.0</td>\n",
       "      <td>...</td>\n",
       "      <td>0</td>\n",
       "      <td>0</td>\n",
       "      <td>0</td>\n",
       "      <td>0</td>\n",
       "      <td>0</td>\n",
       "      <td>0</td>\n",
       "      <td>0</td>\n",
       "      <td>0</td>\n",
       "      <td>0</td>\n",
       "      <td>1</td>\n",
       "    </tr>\n",
       "    <tr>\n",
       "      <td>1</td>\n",
       "      <td>1</td>\n",
       "      <td>https://www.sephora.com/product/goop-goopglow-...</td>\n",
       "      <td>4.5</td>\n",
       "      <td>1</td>\n",
       "      <td>1</td>\n",
       "      <td>0</td>\n",
       "      <td>1</td>\n",
       "      <td>1</td>\n",
       "      <td>1</td>\n",
       "      <td>58.0</td>\n",
       "      <td>...</td>\n",
       "      <td>0</td>\n",
       "      <td>0</td>\n",
       "      <td>0</td>\n",
       "      <td>1</td>\n",
       "      <td>0</td>\n",
       "      <td>0</td>\n",
       "      <td>0</td>\n",
       "      <td>0</td>\n",
       "      <td>0</td>\n",
       "      <td>1</td>\n",
       "    </tr>\n",
       "    <tr>\n",
       "      <td>2</td>\n",
       "      <td>2</td>\n",
       "      <td>https://www.sephora.com/product/aqua-bomb-mist...</td>\n",
       "      <td>4.0</td>\n",
       "      <td>0</td>\n",
       "      <td>0</td>\n",
       "      <td>0</td>\n",
       "      <td>1</td>\n",
       "      <td>1</td>\n",
       "      <td>1</td>\n",
       "      <td>34.0</td>\n",
       "      <td>...</td>\n",
       "      <td>0</td>\n",
       "      <td>0</td>\n",
       "      <td>0</td>\n",
       "      <td>0</td>\n",
       "      <td>0</td>\n",
       "      <td>0</td>\n",
       "      <td>0</td>\n",
       "      <td>0</td>\n",
       "      <td>0</td>\n",
       "      <td>0</td>\n",
       "    </tr>\n",
       "    <tr>\n",
       "      <td>3</td>\n",
       "      <td>3</td>\n",
       "      <td>https://www.sephora.com/product/juju-bar-P3922...</td>\n",
       "      <td>4.5</td>\n",
       "      <td>1</td>\n",
       "      <td>1</td>\n",
       "      <td>0</td>\n",
       "      <td>1</td>\n",
       "      <td>0</td>\n",
       "      <td>1</td>\n",
       "      <td>28.0</td>\n",
       "      <td>...</td>\n",
       "      <td>0</td>\n",
       "      <td>0</td>\n",
       "      <td>0</td>\n",
       "      <td>1</td>\n",
       "      <td>0</td>\n",
       "      <td>1</td>\n",
       "      <td>0</td>\n",
       "      <td>0</td>\n",
       "      <td>1</td>\n",
       "      <td>1</td>\n",
       "    </tr>\n",
       "    <tr>\n",
       "      <td>4</td>\n",
       "      <td>4</td>\n",
       "      <td>https://www.sephora.com/product/goat-milk-mois...</td>\n",
       "      <td>4.0</td>\n",
       "      <td>0</td>\n",
       "      <td>0</td>\n",
       "      <td>0</td>\n",
       "      <td>0</td>\n",
       "      <td>0</td>\n",
       "      <td>1</td>\n",
       "      <td>70.0</td>\n",
       "      <td>...</td>\n",
       "      <td>0</td>\n",
       "      <td>0</td>\n",
       "      <td>0</td>\n",
       "      <td>0</td>\n",
       "      <td>0</td>\n",
       "      <td>0</td>\n",
       "      <td>0</td>\n",
       "      <td>0</td>\n",
       "      <td>0</td>\n",
       "      <td>0</td>\n",
       "    </tr>\n",
       "  </tbody>\n",
       "</table>\n",
       "<p>5 rows × 35 columns</p>\n",
       "</div>"
      ],
      "text/plain": [
       "   Unnamed: 0                                        product_url  \\\n",
       "0           0  https://www.sephora.com/product/pore-refining-...   \n",
       "1           1  https://www.sephora.com/product/goop-goopglow-...   \n",
       "2           2  https://www.sephora.com/product/aqua-bomb-mist...   \n",
       "3           3  https://www.sephora.com/product/juju-bar-P3922...   \n",
       "4           4  https://www.sephora.com/product/goat-milk-mois...   \n",
       "\n",
       "   overall_ratings  is_vegan  is_cruelty_free  award_wins  is_clean_product  \\\n",
       "0              4.5         0                0           0                 0   \n",
       "1              4.5         1                1           0                 1   \n",
       "2              4.0         0                0           0                 1   \n",
       "3              4.5         1                1           0                 1   \n",
       "4              4.0         0                0           0                 0   \n",
       "\n",
       "   has_clinical_results  has_alcohol  price  ...  \\\n",
       "0                     0            0   58.0  ...   \n",
       "1                     1            1   58.0  ...   \n",
       "2                     1            1   34.0  ...   \n",
       "3                     0            1   28.0  ...   \n",
       "4                     0            1   70.0  ...   \n",
       "\n",
       "   targets_signs_of_aging_skincare_concerns  puffiness_skincare_concerns  \\\n",
       "0                                         0                            0   \n",
       "1                                         0                            0   \n",
       "2                                         0                            0   \n",
       "3                                         0                            0   \n",
       "4                                         0                            0   \n",
       "\n",
       "   lightweight_liquid_skincare_concerns  uneven_texture_skincare_concerns  \\\n",
       "0                                     0                                 0   \n",
       "1                                     0                                 1   \n",
       "2                                     0                                 0   \n",
       "3                                     0                                 1   \n",
       "4                                     0                                 0   \n",
       "\n",
       "   redness_skincare_concerns  oiliness_skincare_concerns  \\\n",
       "0                          0                           0   \n",
       "1                          0                           0   \n",
       "2                          0                           0   \n",
       "3                          0                           1   \n",
       "4                          0                           0   \n",
       "\n",
       "   makeup_removal_skincare_concerns  pores_skincare_concerns  \\\n",
       "0                                 0                        0   \n",
       "1                                 0                        0   \n",
       "2                                 0                        0   \n",
       "3                                 0                        0   \n",
       "4                                 0                        0   \n",
       "\n",
       "   from_famous_brand  rating_above_four  \n",
       "0                  0                  1  \n",
       "1                  0                  1  \n",
       "2                  0                  0  \n",
       "3                  1                  1  \n",
       "4                  0                  0  \n",
       "\n",
       "[5 rows x 35 columns]"
      ]
     },
     "execution_count": 3,
     "metadata": {},
     "output_type": "execute_result"
    }
   ],
   "source": [
    "sephora_train['rating_above_four'] = (sephora_train['overall_ratings']>4) * 1\n",
    "sephora_test['rating_above_four'] = (sephora_test['overall_ratings']>4) * 1\n",
    "sephora_test.head()"
   ]
  },
  {
   "cell_type": "code",
   "execution_count": 4,
   "metadata": {},
   "outputs": [
    {
     "name": "stdout",
     "output_type": "stream",
     "text": [
      "Optimization terminated successfully.\n",
      "         Current function value: 0.675172\n",
      "         Iterations 5\n",
      "                           Logit Regression Results                           \n",
      "==============================================================================\n",
      "Dep. Variable:      rating_above_four   No. Observations:                  940\n",
      "Model:                          Logit   Df Residuals:                      915\n",
      "Method:                           MLE   Df Model:                           24\n",
      "Date:                Tue, 27 Apr 2021   Pseudo R-squ.:                 0.02325\n",
      "Time:                        13:03:56   Log-Likelihood:                -634.66\n",
      "converged:                       True   LL-Null:                       -649.77\n",
      "Covariance Type:            nonrobust   LLR p-value:                    0.1778\n",
      "======================================================================================================\n",
      "                                         coef    std err          z      P>|z|      [0.025      0.975]\n",
      "------------------------------------------------------------------------------------------------------\n",
      "Intercept                             -0.1875      0.256     -0.733      0.464      -0.689       0.314\n",
      "is_vegan                              -0.1674      0.235     -0.714      0.475      -0.627       0.292\n",
      "is_cruelty_free                        0.1380      0.197      0.701      0.483      -0.248       0.524\n",
      "is_clean_product                       0.0621      0.183      0.339      0.735      -0.297       0.421\n",
      "has_clinical_results                  -0.2269      0.151     -1.506      0.132      -0.522       0.068\n",
      "has_alcohol                           -0.2335      0.168     -1.390      0.165      -0.563       0.096\n",
      "price                              -2.891e-05      0.002     -0.017      0.986      -0.003       0.003\n",
      "sizing_options_count                   0.1526      0.159      0.962      0.336      -0.158       0.464\n",
      "image_count                            0.0648      0.034      1.884      0.060      -0.003       0.132\n",
      "video_count                           -0.0289      0.086     -0.337      0.736      -0.197       0.139\n",
      "combination_skin_type                 -0.0462      0.337     -0.137      0.891      -0.707       0.615\n",
      "dry_skin_type                         -0.1588      0.277     -0.573      0.567      -0.702       0.385\n",
      "normal_skin_type                       0.3468      0.314      1.105      0.269      -0.268       0.962\n",
      "oily_skin_type                        -0.4710      0.294     -1.603      0.109      -1.047       0.105\n",
      "wrinkles_skincare_concerns             0.0924      0.210      0.440      0.660      -0.319       0.504\n",
      "dryness_skincare_concerns              0.0728      0.193      0.378      0.705      -0.305       0.450\n",
      "uneven_tone_skincare_concerns         -0.3460      0.564     -0.614      0.539      -1.451       0.759\n",
      "loss_of_firmness_skincare_concerns     0.1024      0.268      0.382      0.702      -0.422       0.627\n",
      "acne_skincare_concerns                -0.0934      0.302     -0.309      0.757      -0.685       0.498\n",
      "dark_spots_skincare_concerns          -0.2754      0.325     -0.847      0.397      -0.912       0.362\n",
      "uneven_texture_skincare_concerns       0.1753      0.183      0.956      0.339      -0.184       0.535\n",
      "redness_skincare_concerns              0.1268      0.275      0.460      0.645      -0.413       0.667\n",
      "oiliness_skincare_concerns             0.1664      0.272      0.611      0.541      -0.367       0.700\n",
      "pores_skincare_concerns                0.6707      0.227      2.949      0.003       0.225       1.116\n",
      "from_famous_brand                      0.0856      0.149      0.573      0.567      -0.207       0.379\n",
      "======================================================================================================\n"
     ]
    }
   ],
   "source": [
    "sephora_log = smf.logit(formula = 'rating_above_four ~ is_vegan + is_cruelty_free + is_clean_product + has_clinical_results + has_alcohol + price + sizing_options_count + image_count + video_count + combination_skin_type + dry_skin_type + normal_skin_type + oily_skin_type + wrinkles_skincare_concerns + dryness_skincare_concerns + uneven_tone_skincare_concerns + loss_of_firmness_skincare_concerns + acne_skincare_concerns + dark_spots_skincare_concerns + uneven_texture_skincare_concerns + redness_skincare_concerns + oiliness_skincare_concerns + pores_skincare_concerns + from_famous_brand',\n",
    "                       data = sephora_train).fit()\n",
    "print(sephora_log.summary())"
   ]
  },
  {
   "cell_type": "code",
   "execution_count": 5,
   "metadata": {},
   "outputs": [
    {
     "name": "stdout",
     "output_type": "stream",
     "text": [
      "Optimization terminated successfully.\n",
      "         Current function value: 0.675555\n",
      "         Iterations 4\n",
      "                           Logit Regression Results                           \n",
      "==============================================================================\n",
      "Dep. Variable:      rating_above_four   No. Observations:                  940\n",
      "Model:                          Logit   Df Residuals:                      922\n",
      "Method:                           MLE   Df Model:                           17\n",
      "Date:                Tue, 27 Apr 2021   Pseudo R-squ.:                 0.02269\n",
      "Time:                        13:03:56   Log-Likelihood:                -635.02\n",
      "converged:                       True   LL-Null:                       -649.77\n",
      "Covariance Type:            nonrobust   LLR p-value:                   0.03025\n",
      "====================================================================================================\n",
      "                                       coef    std err          z      P>|z|      [0.025      0.975]\n",
      "----------------------------------------------------------------------------------------------------\n",
      "Intercept                           -0.1851      0.247     -0.750      0.453      -0.669       0.299\n",
      "is_vegan                            -0.1276      0.211     -0.605      0.545      -0.541       0.285\n",
      "is_cruelty_free                      0.1381      0.193      0.714      0.475      -0.241       0.517\n",
      "has_clinical_results                -0.2178      0.150     -1.454      0.146      -0.511       0.076\n",
      "has_alcohol                         -0.2112      0.159     -1.330      0.183      -0.522       0.100\n",
      "sizing_options_count                 0.1465      0.154      0.953      0.341      -0.155       0.448\n",
      "image_count                          0.0630      0.032      1.999      0.046       0.001       0.125\n",
      "dry_skin_type                       -0.1278      0.265     -0.483      0.629      -0.647       0.391\n",
      "normal_skin_type                     0.3583      0.294      1.218      0.223      -0.218       0.935\n",
      "oily_skin_type                      -0.5021      0.220     -2.282      0.022      -0.933      -0.071\n",
      "wrinkles_skincare_concerns           0.1160      0.192      0.605      0.545      -0.260       0.492\n",
      "uneven_tone_skincare_concerns       -0.3404      0.561     -0.607      0.544      -1.439       0.759\n",
      "dark_spots_skincare_concerns        -0.3163      0.311     -1.018      0.308      -0.925       0.292\n",
      "uneven_texture_skincare_concerns     0.1722      0.175      0.986      0.324      -0.170       0.515\n",
      "redness_skincare_concerns            0.1146      0.268      0.428      0.669      -0.411       0.640\n",
      "oiliness_skincare_concerns           0.1385      0.259      0.536      0.592      -0.368       0.645\n",
      "pores_skincare_concerns              0.6216      0.213      2.921      0.003       0.205       1.039\n",
      "from_famous_brand                    0.0780      0.145      0.539      0.590      -0.206       0.362\n",
      "====================================================================================================\n"
     ]
    }
   ],
   "source": [
    "sephora_log2 = smf.logit(formula = 'rating_above_four ~ is_vegan + is_cruelty_free + has_clinical_results + has_alcohol + sizing_options_count + image_count + dry_skin_type + normal_skin_type + oily_skin_type + wrinkles_skincare_concerns + uneven_tone_skincare_concerns + dark_spots_skincare_concerns + uneven_texture_skincare_concerns + redness_skincare_concerns + oiliness_skincare_concerns + pores_skincare_concerns + from_famous_brand',\n",
    "                       data = sephora_train).fit()\n",
    "print(sephora_log2.summary())"
   ]
  },
  {
   "cell_type": "code",
   "execution_count": 6,
   "metadata": {},
   "outputs": [
    {
     "name": "stdout",
     "output_type": "stream",
     "text": [
      "Optimization terminated successfully.\n",
      "         Current function value: 0.676750\n",
      "         Iterations 4\n",
      "                           Logit Regression Results                           \n",
      "==============================================================================\n",
      "Dep. Variable:      rating_above_four   No. Observations:                  940\n",
      "Model:                          Logit   Df Residuals:                      930\n",
      "Method:                           MLE   Df Model:                            9\n",
      "Date:                Tue, 27 Apr 2021   Pseudo R-squ.:                 0.02097\n",
      "Time:                        13:03:57   Log-Likelihood:                -636.15\n",
      "converged:                       True   LL-Null:                       -649.77\n",
      "Covariance Type:            nonrobust   LLR p-value:                  0.001274\n",
      "====================================================================================================\n",
      "                                       coef    std err          z      P>|z|      [0.025      0.975]\n",
      "----------------------------------------------------------------------------------------------------\n",
      "Intercept                           -0.1281      0.226     -0.566      0.571      -0.572       0.315\n",
      "has_clinical_results                -0.2335      0.147     -1.592      0.111      -0.521       0.054\n",
      "has_alcohol                         -0.2165      0.156     -1.385      0.166      -0.523       0.090\n",
      "sizing_options_count                 0.1430      0.153      0.936      0.349      -0.156       0.442\n",
      "image_count                          0.0662      0.031      2.169      0.030       0.006       0.126\n",
      "normal_skin_type                     0.3182      0.216      1.473      0.141      -0.105       0.742\n",
      "oily_skin_type                      -0.4776      0.206     -2.324      0.020      -0.880      -0.075\n",
      "dark_spots_skincare_concerns        -0.2972      0.305     -0.976      0.329      -0.894       0.300\n",
      "uneven_texture_skincare_concerns     0.1327      0.170      0.781      0.435      -0.200       0.465\n",
      "pores_skincare_concerns              0.6266      0.195      3.216      0.001       0.245       1.008\n",
      "====================================================================================================\n"
     ]
    }
   ],
   "source": [
    "sephora_log3 = smf.logit(formula = 'rating_above_four ~ has_clinical_results + has_alcohol + sizing_options_count + image_count + normal_skin_type + oily_skin_type + dark_spots_skincare_concerns + uneven_texture_skincare_concerns + pores_skincare_concerns',\n",
    "                       data = sephora_train).fit()\n",
    "print(sephora_log3.summary())"
   ]
  },
  {
   "cell_type": "code",
   "execution_count": 12,
   "metadata": {},
   "outputs": [
    {
     "name": "stdout",
     "output_type": "stream",
     "text": [
      "Optimization terminated successfully.\n",
      "         Current function value: 0.677987\n",
      "         Iterations 4\n",
      "                           Logit Regression Results                           \n",
      "==============================================================================\n",
      "Dep. Variable:      rating_above_four   No. Observations:                  940\n",
      "Model:                          Logit   Df Residuals:                      933\n",
      "Method:                           MLE   Df Model:                            6\n",
      "Date:                Tue, 27 Apr 2021   Pseudo R-squ.:                 0.01918\n",
      "Time:                        13:04:37   Log-Likelihood:                -637.31\n",
      "converged:                       True   LL-Null:                       -649.77\n",
      "Covariance Type:            nonrobust   LLR p-value:                 0.0003533\n",
      "===========================================================================================\n",
      "                              coef    std err          z      P>|z|      [0.025      0.975]\n",
      "-------------------------------------------------------------------------------------------\n",
      "Intercept                   0.0180      0.165      0.109      0.913      -0.305       0.341\n",
      "has_clinical_results       -0.2282      0.146     -1.561      0.118      -0.515       0.058\n",
      "has_alcohol                -0.2153      0.156     -1.381      0.167      -0.521       0.090\n",
      "image_count                 0.0702      0.030      2.330      0.020       0.011       0.129\n",
      "normal_skin_type            0.3781      0.202      1.867      0.062      -0.019       0.775\n",
      "oily_skin_type             -0.4862      0.205     -2.377      0.017      -0.887      -0.085\n",
      "pores_skincare_concerns     0.6355      0.194      3.269      0.001       0.254       1.016\n",
      "===========================================================================================\n"
     ]
    }
   ],
   "source": [
    "sephora_log4 = smf.logit(formula = 'rating_above_four ~ has_clinical_results + has_alcohol + image_count + normal_skin_type + oily_skin_type + pores_skincare_concerns',\n",
    "                       data = sephora_train).fit()\n",
    "print(sephora_log4.summary())"
   ]
  },
  {
   "cell_type": "code",
   "execution_count": 8,
   "metadata": {},
   "outputs": [
    {
     "name": "stdout",
     "output_type": "stream",
     "text": [
      "0    441\n",
      "1    499\n",
      "dtype: int64\n"
     ]
    }
   ],
   "source": [
    "rating_above_four = sephora_train['rating_above_four']\n",
    "# BASELINE\n",
    "\n",
    "negative = np.sum(rating_above_four == 0)\n",
    "positive = np.sum(rating_above_four == 1)\n",
    "print(pd.Series({'0': negative, '1': positive}))"
   ]
  },
  {
   "cell_type": "code",
   "execution_count": 9,
   "metadata": {},
   "outputs": [
    {
     "name": "stdout",
     "output_type": "stream",
     "text": [
      "0    120\n",
      "1    116\n",
      "dtype: int64\n"
     ]
    }
   ],
   "source": [
    "rating_above_four_test = sephora_test['rating_above_four']\n",
    "negative_test = np.sum(rating_above_four_test == 0)\n",
    "positive_test = np.sum(rating_above_four_test == 1)\n",
    "print(pd.Series({'0': negative_test, '1': positive_test}))"
   ]
  },
  {
   "cell_type": "code",
   "execution_count": 16,
   "metadata": {},
   "outputs": [],
   "source": [
    "from sklearn.metrics import confusion_matrix\n",
    "\n",
    "def accuracy (y_test, y_pred):\n",
    "    cm = confusion_matrix(y_test, y_pred)\n",
    "    # Accuracy = (TN + TP) / (P + N)\n",
    "    return (cm.ravel()[0]+cm.ravel()[3])/sum(cm.ravel())\n",
    "\n",
    "def TPR (y_test, y_pred):\n",
    "    cm = confusion_matrix(y_test, y_pred)\n",
    "    #TPR = TP / P\n",
    "    return cm.ravel()[3]/(cm.ravel()[2]+cm.ravel()[3])\n",
    "\n",
    "def FPR (y_test, y_pred):\n",
    "    cm = confusion_matrix(y_test, y_pred)\n",
    "    #FPR = FP / N\n",
    "    return cm.ravel()[1]/(cm.ravel()[0]+cm.ravel()[1])"
   ]
  },
  {
   "cell_type": "code",
   "execution_count": 21,
   "metadata": {},
   "outputs": [
    {
     "name": "stdout",
     "output_type": "stream",
     "text": [
      "Accuracy for baseline: 0.4915\n",
      "Accuracy for logistic regression: 0.5042\n"
     ]
    }
   ],
   "source": [
    "rating_above_four_predict = round(sephora_log2.predict(sephora_test),0)\n",
    "\n",
    "a1 = round(116/(116+120), 4)\n",
    "a2 = round(accuracy (rating_above_four_test, rating_above_four_predict),4)\n",
    "print('Accuracy for baseline:', a1)\n",
    "print('Accuracy for logistic regression:', a2)"
   ]
  },
  {
   "cell_type": "code",
   "execution_count": 19,
   "metadata": {},
   "outputs": [
    {
     "name": "stdout",
     "output_type": "stream",
     "text": [
      "TPR for logistic regression: 0.6293\n",
      "FPR for logistic regression: 0.6167\n"
     ]
    }
   ],
   "source": [
    "print('TPR for logistic regression:', round(TPR (rating_above_four_test, rating_above_four_predict),4))\n",
    "print('FPR for logistic regression:', round(FPR (rating_above_four_test, rating_above_four_predict),4))"
   ]
  },
  {
   "cell_type": "code",
   "execution_count": 18,
   "metadata": {},
   "outputs": [
    {
     "name": "stdout",
     "output_type": "stream",
     "text": [
      "[[46 74]\n",
      " [43 73]]\n"
     ]
    }
   ],
   "source": [
    "cm = confusion_matrix(rating_above_four_test, rating_above_four_predict)\n",
    "print (cm)"
   ]
  },
  {
   "cell_type": "code",
   "execution_count": null,
   "metadata": {},
   "outputs": [],
   "source": []
  }
 ],
 "metadata": {
  "kernelspec": {
   "display_name": "Python 3",
   "language": "python",
   "name": "python3"
  },
  "language_info": {
   "codemirror_mode": {
    "name": "ipython",
    "version": 3
   },
   "file_extension": ".py",
   "mimetype": "text/x-python",
   "name": "python",
   "nbconvert_exporter": "python",
   "pygments_lexer": "ipython3",
   "version": "3.7.4"
  }
 },
 "nbformat": 4,
 "nbformat_minor": 2
}
